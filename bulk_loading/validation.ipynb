{
 "cells": [
  {
   "cell_type": "code",
   "execution_count": 18,
   "id": "bc9b7250-b57f-4167-a4e0-bc874b1080bc",
   "metadata": {
    "tags": []
   },
   "outputs": [],
   "source": [
    "import pandas as pd\n",
    "import threading\n",
    "import time, os, json\n",
    "from datetime import datetime, timedelta"
   ]
  },
  {
   "cell_type": "code",
   "execution_count": 11,
   "id": "524e3982-b606-471c-aed4-c3e568dad545",
   "metadata": {},
   "outputs": [],
   "source": [
    "# df_list_transcripts = pd.read_csv(\"df_list_transcripts.csv\")\n",
    "# print(len(df_list_transcripts))\n",
    "# print()\n",
    "# df_inter_calls_data = pd.read_csv(\"df_inter_calls_data.csv\")\n",
    "# print(len(df_inter_calls_data))\n",
    "# print()\n",
    "# # print(len(set(df_list_transcripts.ID)-set(df_inter_calls_data.CONTACT_ID)))\n",
    "# # print()\n",
    "# diff2 = df_list_transcripts[~df_list_transcripts.ID.isin(df_inter_calls_data.CONTACT_ID)]\n",
    "# print(len(diff2))"
   ]
  },
  {
   "cell_type": "code",
   "execution_count": 19,
   "id": "56ee0158-330e-4175-b3e7-592cd3b7e9f6",
   "metadata": {},
   "outputs": [
    {
     "name": "stdout",
     "output_type": "stream",
     "text": [
      "\n",
      "🔄 Auto-refreshing data...\n",
      "\n",
      "Total Transcripts: 2154\n",
      "Total Processed Calls: 2112\n",
      "Unprocessed Calls: 42\n",
      "\n"
     ]
    },
    {
     "name": "stdin",
     "output_type": "stream",
     "text": [
      "\n",
      "Press Enter to refresh manually...\n",
      " \n"
     ]
    },
    {
     "name": "stdout",
     "output_type": "stream",
     "text": [
      "Total Transcripts: 2154\n",
      "Total Processed Calls: 2112\n",
      "Unprocessed Calls: 42\n",
      "\n"
     ]
    },
    {
     "ename": "KeyboardInterrupt",
     "evalue": "Interrupted by user",
     "output_type": "error",
     "traceback": [
      "\u001b[31m---------------------------------------------------------------------------\u001b[39m",
      "\u001b[31mKeyboardInterrupt\u001b[39m                         Traceback (most recent call last)",
      "\u001b[36mCell\u001b[39m\u001b[36m \u001b[39m\u001b[32mIn[19]\u001b[39m\u001b[32m, line 26\u001b[39m\n\u001b[32m     24\u001b[39m \u001b[38;5;66;03m# Allow manual execution on demand\u001b[39;00m\n\u001b[32m     25\u001b[39m \u001b[38;5;28;01mwhile\u001b[39;00m \u001b[38;5;28;01mTrue\u001b[39;00m:\n\u001b[32m---> \u001b[39m\u001b[32m26\u001b[39m     \u001b[38;5;28;43minput\u001b[39;49m\u001b[43m(\u001b[49m\u001b[33;43m\"\u001b[39;49m\u001b[38;5;130;43;01m\\n\u001b[39;49;00m\u001b[33;43mPress Enter to refresh manually...\u001b[39;49m\u001b[38;5;130;43;01m\\n\u001b[39;49;00m\u001b[33;43m\"\u001b[39;49m\u001b[43m)\u001b[49m\n\u001b[32m     27\u001b[39m     process_data()\n",
      "\u001b[36mFile \u001b[39m\u001b[32m/opt/conda/envs/posigen/lib/python3.13/site-packages/ipykernel/kernelbase.py:1282\u001b[39m, in \u001b[36mKernel.raw_input\u001b[39m\u001b[34m(self, prompt)\u001b[39m\n\u001b[32m   1280\u001b[39m     msg = \u001b[33m\"\u001b[39m\u001b[33mraw_input was called, but this frontend does not support input requests.\u001b[39m\u001b[33m\"\u001b[39m\n\u001b[32m   1281\u001b[39m     \u001b[38;5;28;01mraise\u001b[39;00m StdinNotImplementedError(msg)\n\u001b[32m-> \u001b[39m\u001b[32m1282\u001b[39m \u001b[38;5;28;01mreturn\u001b[39;00m \u001b[38;5;28;43mself\u001b[39;49m\u001b[43m.\u001b[49m\u001b[43m_input_request\u001b[49m\u001b[43m(\u001b[49m\n\u001b[32m   1283\u001b[39m \u001b[43m    \u001b[49m\u001b[38;5;28;43mstr\u001b[39;49m\u001b[43m(\u001b[49m\u001b[43mprompt\u001b[49m\u001b[43m)\u001b[49m\u001b[43m,\u001b[49m\n\u001b[32m   1284\u001b[39m \u001b[43m    \u001b[49m\u001b[38;5;28;43mself\u001b[39;49m\u001b[43m.\u001b[49m\u001b[43m_parent_ident\u001b[49m\u001b[43m[\u001b[49m\u001b[33;43m\"\u001b[39;49m\u001b[33;43mshell\u001b[39;49m\u001b[33;43m\"\u001b[39;49m\u001b[43m]\u001b[49m\u001b[43m,\u001b[49m\n\u001b[32m   1285\u001b[39m \u001b[43m    \u001b[49m\u001b[38;5;28;43mself\u001b[39;49m\u001b[43m.\u001b[49m\u001b[43mget_parent\u001b[49m\u001b[43m(\u001b[49m\u001b[33;43m\"\u001b[39;49m\u001b[33;43mshell\u001b[39;49m\u001b[33;43m\"\u001b[39;49m\u001b[43m)\u001b[49m\u001b[43m,\u001b[49m\n\u001b[32m   1286\u001b[39m \u001b[43m    \u001b[49m\u001b[43mpassword\u001b[49m\u001b[43m=\u001b[49m\u001b[38;5;28;43;01mFalse\u001b[39;49;00m\u001b[43m,\u001b[49m\n\u001b[32m   1287\u001b[39m \u001b[43m\u001b[49m\u001b[43m)\u001b[49m\n",
      "\u001b[36mFile \u001b[39m\u001b[32m/opt/conda/envs/posigen/lib/python3.13/site-packages/ipykernel/kernelbase.py:1325\u001b[39m, in \u001b[36mKernel._input_request\u001b[39m\u001b[34m(self, prompt, ident, parent, password)\u001b[39m\n\u001b[32m   1322\u001b[39m \u001b[38;5;28;01mexcept\u001b[39;00m \u001b[38;5;167;01mKeyboardInterrupt\u001b[39;00m:\n\u001b[32m   1323\u001b[39m     \u001b[38;5;66;03m# re-raise KeyboardInterrupt, to truncate traceback\u001b[39;00m\n\u001b[32m   1324\u001b[39m     msg = \u001b[33m\"\u001b[39m\u001b[33mInterrupted by user\u001b[39m\u001b[33m\"\u001b[39m\n\u001b[32m-> \u001b[39m\u001b[32m1325\u001b[39m     \u001b[38;5;28;01mraise\u001b[39;00m \u001b[38;5;167;01mKeyboardInterrupt\u001b[39;00m(msg) \u001b[38;5;28;01mfrom\u001b[39;00m\u001b[38;5;250m \u001b[39m\u001b[38;5;28;01mNone\u001b[39;00m\n\u001b[32m   1326\u001b[39m \u001b[38;5;28;01mexcept\u001b[39;00m \u001b[38;5;167;01mException\u001b[39;00m:\n\u001b[32m   1327\u001b[39m     \u001b[38;5;28mself\u001b[39m.log.warning(\u001b[33m\"\u001b[39m\u001b[33mInvalid Message:\u001b[39m\u001b[33m\"\u001b[39m, exc_info=\u001b[38;5;28;01mTrue\u001b[39;00m)\n",
      "\u001b[31mKeyboardInterrupt\u001b[39m: Interrupted by user"
     ]
    },
    {
     "name": "stdout",
     "output_type": "stream",
     "text": [
      "\n",
      "🔄 Auto-refreshing data...\n",
      "\n",
      "Total Transcripts: 2154\n",
      "Total Processed Calls: 2112\n",
      "Unprocessed Calls: 42\n",
      "\n",
      "\n",
      "🔄 Auto-refreshing data...\n",
      "\n",
      "Total Transcripts: 2154\n",
      "Total Processed Calls: 2112\n",
      "Unprocessed Calls: 42\n",
      "\n"
     ]
    }
   ],
   "source": [
    "def process_data():\n",
    "    \"\"\"Reads data, computes the difference, and prints results.\"\"\"\n",
    "    df_list_transcripts = pd.read_csv(\"df_list_transcripts.csv\")\n",
    "    df_inter_calls_data = pd.read_csv(\"df_inter_calls_data.csv\")\n",
    "\n",
    "    print(f\"Total Transcripts: {len(df_list_transcripts)}\")\n",
    "    print(f\"Total Processed Calls: {len(df_inter_calls_data)}\")\n",
    "\n",
    "    # Find unprocessed calls\n",
    "    diff2 = df_list_transcripts[~df_list_transcripts.ID.isin(df_inter_calls_data.CONTACT_ID)]\n",
    "    print(f\"Unprocessed Calls: {len(diff2)}\\n\")\n",
    "\n",
    "def auto_refresh(interval=300):\n",
    "    \"\"\"Runs the process every 'interval' seconds.\"\"\"\n",
    "    while True:\n",
    "        print(\"\\n🔄 Auto-refreshing data...\\n\")\n",
    "        process_data()\n",
    "        time.sleep(interval)\n",
    "\n",
    "# Start auto-refreshing in a separate thread\n",
    "refresh_thread = threading.Thread(target=auto_refresh, daemon=True)\n",
    "refresh_thread.start()\n",
    "\n",
    "# Allow manual execution on demand\n",
    "while True:\n",
    "    input(\"\\nPress Enter to refresh manually...\\n\")\n",
    "    process_data()"
   ]
  },
  {
   "cell_type": "code",
   "execution_count": null,
   "id": "af4a22be-f9ca-4dc9-8492-3d77364ece11",
   "metadata": {},
   "outputs": [],
   "source": []
  }
 ],
 "metadata": {
  "environment": {
   "kernel": "posigen",
   "name": "workbench-notebooks.m127",
   "type": "gcloud",
   "uri": "us-docker.pkg.dev/deeplearning-platform-release/gcr.io/workbench-notebooks:m127"
  },
  "kernelspec": {
   "display_name": "posigen (Local)",
   "language": "python",
   "name": "posigen"
  },
  "language_info": {
   "codemirror_mode": {
    "name": "ipython",
    "version": 3
   },
   "file_extension": ".py",
   "mimetype": "text/x-python",
   "name": "python",
   "nbconvert_exporter": "python",
   "pygments_lexer": "ipython3",
   "version": "3.13.2"
  }
 },
 "nbformat": 4,
 "nbformat_minor": 5
}
