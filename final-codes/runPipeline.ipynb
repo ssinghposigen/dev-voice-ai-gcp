{
 "cells": [
  {
   "cell_type": "markdown",
   "id": "c06517b6-ee24-47af-aaa2-4afdf4aab143",
   "metadata": {},
   "source": [
    "# Import"
   ]
  },
  {
   "cell_type": "code",
   "execution_count": 9,
   "id": "166902ac-8f40-4d5d-a43d-5c1145adf03f",
   "metadata": {
    "tags": []
   },
   "outputs": [],
   "source": [
    "from google.cloud import secretmanager\n",
    "from datetime import datetime, timezone, UTC, timedelta\n",
    "import kfp\n",
    "from kfp import dsl, compiler, components\n",
    "import json, logging\n",
    "from google.cloud import aiplatform\n",
    "from google.cloud.aiplatform import pipeline_jobs\n",
    "from google.cloud import logging as cloud_logging\n",
    "\n",
    "import warnings\n",
    "warnings.filterwarnings(\"ignore\", message=\"Skipping checksum validation\")"
   ]
  },
  {
   "cell_type": "markdown",
   "id": "91a0b5ed-c52c-4fb8-ac6b-dc8b71b3c465",
   "metadata": {},
   "source": [
    "# Run Pipeline"
   ]
  },
  {
   "cell_type": "code",
   "execution_count": 10,
   "id": "7cb0dd0d-af52-48c3-8807-c1e1d595d740",
   "metadata": {},
   "outputs": [],
   "source": [
    "TIMESTAMP = datetime.now(UTC).strftime(\"%Y-%m-%d-%H-%M-%S\")\n",
    "project_id = \"dev-posigen\"\n",
    "project_location = \"us-central1\"\n",
    "secret_id = \"dev-cx-voiceai\"\n",
    "version_id= \"2\""
   ]
  },
  {
   "cell_type": "code",
   "execution_count": 11,
   "id": "db90c70e-cf4b-4c44-b171-2a9c7fab7918",
   "metadata": {
    "tags": []
   },
   "outputs": [],
   "source": [
    "yaml_to_run = \"cx-voiceai-process-calls.yaml\"\n",
    "\n",
    "pipeline_run_name = f\"cx-voiceai-process-calls-{TIMESTAMP}\"\n",
    "# pipeline_run_name = \"cx-voiceai-process-calls-2025-04-15-12-24-22\""
   ]
  },
  {
   "cell_type": "code",
   "execution_count": 12,
   "id": "d08e09a6-e3ae-43ff-8cd9-a2ac26479068",
   "metadata": {
    "tags": []
   },
   "outputs": [
    {
     "name": "stdout",
     "output_type": "stream",
     "text": [
      "Creating PipelineJob\n",
      "PipelineJob created. Resource name: projects/275963620760/locations/us-central1/pipelineJobs/vai-pipeline-run-2025-04-15-13-04-48\n",
      "To use this PipelineJob in another session:\n",
      "pipeline_job = aiplatform.PipelineJob.get('projects/275963620760/locations/us-central1/pipelineJobs/vai-pipeline-run-2025-04-15-13-04-48')\n",
      "View Pipeline Job:\n",
      "https://console.cloud.google.com/vertex-ai/locations/us-central1/pipelines/runs/vai-pipeline-run-2025-04-15-13-04-48?project=275963620760\n",
      "PipelineJob projects/275963620760/locations/us-central1/pipelineJobs/vai-pipeline-run-2025-04-15-13-04-48 current state:\n",
      "3\n",
      "PipelineJob projects/275963620760/locations/us-central1/pipelineJobs/vai-pipeline-run-2025-04-15-13-04-48 current state:\n",
      "3\n",
      "PipelineJob projects/275963620760/locations/us-central1/pipelineJobs/vai-pipeline-run-2025-04-15-13-04-48 current state:\n",
      "3\n",
      "PipelineJob projects/275963620760/locations/us-central1/pipelineJobs/vai-pipeline-run-2025-04-15-13-04-48 current state:\n",
      "3\n",
      "PipelineJob projects/275963620760/locations/us-central1/pipelineJobs/vai-pipeline-run-2025-04-15-13-04-48 current state:\n",
      "3\n",
      "PipelineJob run completed. Resource name: projects/275963620760/locations/us-central1/pipelineJobs/vai-pipeline-run-2025-04-15-13-04-48\n"
     ]
    }
   ],
   "source": [
    "# Initialize Vertex AI\n",
    "aiplatform.init(project=\"dev-posigen\", location=\"us-central1\")\n",
    "\n",
    "# Create pipeline job\n",
    "pipeline_jobs.PipelineJob(\n",
    "    display_name = f\"vai-pipeline-run-{TIMESTAMP}\".lower(),\n",
    "    job_id = f\"vai-pipeline-run-{TIMESTAMP}\".lower(),\n",
    "    template_path = yaml_to_run,\n",
    "    pipeline_root = f\"gs://dev-aws-connect-audio\",\n",
    "    project = project_id,\n",
    "    location = project_location,\n",
    "    enable_caching = False,\n",
    "    parameter_values={\n",
    "        \"pipeline_run_name\": pipeline_run_name,\n",
    "        \"project_id\": project_id,\n",
    "        \"secret_id\": secret_id,\n",
    "        \"version_id\": version_id\n",
    "    }\n",
    ").run()"
   ]
  },
  {
   "cell_type": "code",
   "execution_count": null,
   "id": "989fe9b9-4c5d-4369-8894-63025e18f4db",
   "metadata": {},
   "outputs": [],
   "source": []
  }
 ],
 "metadata": {
  "environment": {
   "kernel": "posigen",
   "name": "workbench-notebooks.m127",
   "type": "gcloud",
   "uri": "us-docker.pkg.dev/deeplearning-platform-release/gcr.io/workbench-notebooks:m127"
  },
  "kernelspec": {
   "display_name": "posigen (Local)",
   "language": "python",
   "name": "posigen"
  },
  "language_info": {
   "codemirror_mode": {
    "name": "ipython",
    "version": 3
   },
   "file_extension": ".py",
   "mimetype": "text/x-python",
   "name": "python",
   "nbconvert_exporter": "python",
   "pygments_lexer": "ipython3",
   "version": "3.13.2"
  }
 },
 "nbformat": 4,
 "nbformat_minor": 5
}
