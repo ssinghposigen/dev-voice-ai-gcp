{
 "cells": [
  {
   "cell_type": "markdown",
   "id": "1d8d8b56-7a75-4284-bae9-9d3d89913456",
   "metadata": {},
   "source": [
    "# Imports"
   ]
  },
  {
   "cell_type": "code",
   "execution_count": 106,
   "id": "77a24c3e-9e0d-46b9-ab20-494ac97250dd",
   "metadata": {
    "tags": []
   },
   "outputs": [],
   "source": [
    "import pandas as pd\n",
    "import json\n",
    "import logging\n",
    "import re\n",
    "from transformers import AutoTokenizer\n",
    "from google.cloud import dlp_v2\n",
    "import warnings\n",
    "warnings.filterwarnings(\"ignore\", message=\"Skipping checksum validation\")"
   ]
  },
  {
   "cell_type": "markdown",
   "id": "3cbbbd44-ee28-428c-9d1f-63f235968135",
   "metadata": {
    "tags": []
   },
   "source": [
    "# Variables"
   ]
  },
  {
   "cell_type": "code",
   "execution_count": 107,
   "id": "d20c2c3e-a961-4fca-b9b2-8ba9a7599292",
   "metadata": {
    "tags": []
   },
   "outputs": [],
   "source": [
    "project_id = \"dev-posigen\"\n",
    "secret_id = \"dev-cx-voiceai\""
   ]
  },
  {
   "cell_type": "code",
   "execution_count": 108,
   "id": "5d136a65-455b-4faa-9415-394e25b14bb8",
   "metadata": {
    "tags": []
   },
   "outputs": [],
   "source": [
    "logging.basicConfig(level=logging.INFO)\n",
    "logger = logging.getLogger(__name__)"
   ]
  },
  {
   "cell_type": "markdown",
   "id": "113cdbcd-f4ed-4492-aa76-654a08ad9323",
   "metadata": {
    "tags": []
   },
   "source": [
    "# Util Functions"
   ]
  },
  {
   "cell_type": "code",
   "execution_count": 109,
   "id": "38e33686-e598-4eb7-80dd-2a3fc9884a01",
   "metadata": {},
   "outputs": [],
   "source": [
    "def process_transcript(\n",
    "    contact_id,\n",
    "    transcript_data\n",
    "):\n",
    "    \"\"\"\n",
    "    Pre-process the transcript loaded from S3 Buckets:\n",
    "    1. Load the transcript as Pandas Dataframe.\n",
    "    2. Select only the necessary columns ['BeginOffsetMillis', 'EndOffsetMillis', 'ParticipantId', 'Content'].\n",
    "    3. Format the time in minutes and seconds.\n",
    "    4. Rename the columns for better understanding.\n",
    "    \"\"\"\n",
    "    try:\n",
    "        logger.info(f\"{contact_id}: Loading the Transcript as Pandas Dataframe.\")\n",
    "        \n",
    "        # Load the transcript into a DataFrame\n",
    "        transcript_df = pd.json_normalize(transcript_data['Transcript'])\n",
    "\n",
    "        # Select the relevant Columns\n",
    "        columns_to_select = [\n",
    "            'BeginOffsetMillis',\n",
    "            'EndOffsetMillis',\n",
    "            'ParticipantId',\n",
    "            'Content'\n",
    "        ]\n",
    "        formatted_df = transcript_df[columns_to_select].copy()\n",
    "\n",
    "        # Rename columns\n",
    "        formatted_df = formatted_df.rename(columns={\n",
    "            'BeginOffsetMillis': 'Begin_Offset',\n",
    "            'EndOffsetMillis': 'End_Offset',\n",
    "            'Content': 'caption',\n",
    "            'ParticipantId': 'speaker_tag'\n",
    "        })\n",
    "\n",
    "        # Inserting the Call ID and Language Code:\n",
    "        formatted_df.insert(loc=0, column='contact_id', value=contact_id)\n",
    "        formatted_df['call_language'] = transcript_data.get('LanguageCode', 'Unknown')\n",
    "\n",
    "        logger.info(f\"{contact_id}: Returning formatted DataFrame.\")\n",
    "        return formatted_df\n",
    "\n",
    "    except Exception as e:\n",
    "        logger.error(f\"Error processing transcript: {str(e)}\")\n",
    "        raise"
   ]
  },
  {
   "cell_type": "code",
   "execution_count": 110,
   "id": "2f91638a-3b3b-4616-8321-dab1bd39dde4",
   "metadata": {
    "tags": []
   },
   "outputs": [
    {
     "name": "stderr",
     "output_type": "stream",
     "text": [
      "INFO:__main__:868375c1-2111-4990-b9d2-36693c7bad46: Loading the Transcript as Pandas Dataframe.\n",
      "INFO:__main__:868375c1-2111-4990-b9d2-36693c7bad46: Returning formatted DataFrame.\n"
     ]
    }
   ],
   "source": [
    "with open('868375c1-2111-4990-b9d2-36693c7bad46_analysis_2025-01-06T18_29_18Z.json', 'r') as f:\n",
    "    transcript_data = json.load(f)\n",
    "\n",
    "MODEL = f\"cardiffnlp/twitter-roberta-base-sentiment-latest\"\n",
    "tokenizer = AutoTokenizer.from_pretrained(MODEL)\n",
    "\n",
    "contact_id = '868375c1-2111-4990-b9d2-36693c7bad46'\n",
    "result = process_transcript(contact_id, transcript_data)"
   ]
  },
  {
   "cell_type": "code",
   "execution_count": 111,
   "id": "90e6d0b0-d51e-4c5a-943b-a7122cad1a01",
   "metadata": {},
   "outputs": [
    {
     "data": {
      "text/html": [
       "<div>\n",
       "<style scoped>\n",
       "    .dataframe tbody tr th:only-of-type {\n",
       "        vertical-align: middle;\n",
       "    }\n",
       "\n",
       "    .dataframe tbody tr th {\n",
       "        vertical-align: top;\n",
       "    }\n",
       "\n",
       "    .dataframe thead th {\n",
       "        text-align: right;\n",
       "    }\n",
       "</style>\n",
       "<table border=\"1\" class=\"dataframe\">\n",
       "  <thead>\n",
       "    <tr style=\"text-align: right;\">\n",
       "      <th></th>\n",
       "      <th>contact_id</th>\n",
       "      <th>Begin_Offset</th>\n",
       "      <th>End_Offset</th>\n",
       "      <th>speaker_tag</th>\n",
       "      <th>caption</th>\n",
       "      <th>call_language</th>\n",
       "    </tr>\n",
       "  </thead>\n",
       "  <tbody>\n",
       "    <tr>\n",
       "      <th>0</th>\n",
       "      <td>868375c1-2111-4990-b9d2-36693c7bad46</td>\n",
       "      <td>0</td>\n",
       "      <td>4190</td>\n",
       "      <td>AGENT</td>\n",
       "      <td>Good afternoon. Thank you for calling Positron. This is Brittany on a recorded line. How may I assist you today?</td>\n",
       "      <td>en-US</td>\n",
       "    </tr>\n",
       "    <tr>\n",
       "      <th>1</th>\n",
       "      <td>868375c1-2111-4990-b9d2-36693c7bad46</td>\n",
       "      <td>5230</td>\n",
       "      <td>8060</td>\n",
       "      <td>CUSTOMER</td>\n",
       "      <td>Yes ma'am, this is Regal Liby. How are you doing?</td>\n",
       "      <td>en-US</td>\n",
       "    </tr>\n",
       "    <tr>\n",
       "      <th>2</th>\n",
       "      <td>868375c1-2111-4990-b9d2-36693c7bad46</td>\n",
       "      <td>8000</td>\n",
       "      <td>10760</td>\n",
       "      <td>AGENT</td>\n",
       "      <td>I'm well, thank you for asking, Ms. Liamby. How are you doing today?</td>\n",
       "      <td>en-US</td>\n",
       "    </tr>\n",
       "    <tr>\n",
       "      <th>3</th>\n",
       "      <td>868375c1-2111-4990-b9d2-36693c7bad46</td>\n",
       "      <td>11000</td>\n",
       "      <td>12109</td>\n",
       "      <td>CUSTOMER</td>\n",
       "      <td>Yeah, I'm OK.</td>\n",
       "      <td>en-US</td>\n",
       "    </tr>\n",
       "    <tr>\n",
       "      <th>4</th>\n",
       "      <td>868375c1-2111-4990-b9d2-36693c7bad46</td>\n",
       "      <td>12310</td>\n",
       "      <td>14029</td>\n",
       "      <td>AGENT</td>\n",
       "      <td>Mhm. How can I help you today?</td>\n",
       "      <td>en-US</td>\n",
       "    </tr>\n",
       "  </tbody>\n",
       "</table>\n",
       "</div>"
      ],
      "text/plain": [
       "                             contact_id  Begin_Offset  End_Offset speaker_tag  \\\n",
       "0  868375c1-2111-4990-b9d2-36693c7bad46             0        4190       AGENT   \n",
       "1  868375c1-2111-4990-b9d2-36693c7bad46          5230        8060    CUSTOMER   \n",
       "2  868375c1-2111-4990-b9d2-36693c7bad46          8000       10760       AGENT   \n",
       "3  868375c1-2111-4990-b9d2-36693c7bad46         11000       12109    CUSTOMER   \n",
       "4  868375c1-2111-4990-b9d2-36693c7bad46         12310       14029       AGENT   \n",
       "\n",
       "                                                                                                            caption  \\\n",
       "0  Good afternoon. Thank you for calling Positron. This is Brittany on a recorded line. How may I assist you today?   \n",
       "1                                                                 Yes ma'am, this is Regal Liby. How are you doing?   \n",
       "2                                              I'm well, thank you for asking, Ms. Liamby. How are you doing today?   \n",
       "3                                                                                                     Yeah, I'm OK.   \n",
       "4                                                                                    Mhm. How can I help you today?   \n",
       "\n",
       "  call_language  \n",
       "0         en-US  \n",
       "1         en-US  \n",
       "2         en-US  \n",
       "3         en-US  \n",
       "4         en-US  "
      ]
     },
     "execution_count": 111,
     "metadata": {},
     "output_type": "execute_result"
    }
   ],
   "source": [
    "result.head()"
   ]
  },
  {
   "cell_type": "code",
   "execution_count": 112,
   "id": "60b6cc25-dffb-47f2-93dc-0ab045d3b9b7",
   "metadata": {
    "tags": []
   },
   "outputs": [],
   "source": [
    "result[['caption']]\n",
    "\n",
    "output = None"
   ]
  },
  {
   "cell_type": "code",
   "execution_count": 113,
   "id": "789d99cd-ee6c-4740-a519-1e76823511f7",
   "metadata": {
    "tags": []
   },
   "outputs": [],
   "source": [
    "unmasked_caltions = \"\\n\".join(result['caption'])"
   ]
  },
  {
   "cell_type": "code",
   "execution_count": 114,
   "id": "6c004440-fc2c-4193-8f76-a33b8c409eae",
   "metadata": {
    "tags": []
   },
   "outputs": [
    {
     "data": {
      "text/plain": [
       "\"Good afternoon. Thank you for calling Positron. This is Brittany on a recorded line. How may I assist you today?\\nYes ma'am, this is Regal Liby. How are you doing?\\nI'm well, thank you for asking, Ms. Liamby. How are you doing today?\\nYeah, I'm OK.\\nMhm. How can I help you today?\\nUm,\\nWell, I'm sure I owe something.\\nOK, alright, so can you confirm your service address so that I can pull up your account?\\n911\\n8 Walter Butte Street Jeanette, Louisiana 70544\\nAll right, let's take a look.\\nAlright, so yes, you were due on the 1st and the payment amount is $50.72.\\nAlright, are you, do you want me to use the Mastercard that we have on file or do you wanna use your bank account?\\nNo, ma'am.\\nNo ma'am, I'm gonna give you a new card. You said it's $50?\\nOK.\\n$50.72. Yes, ma'am. 4.\\nThey only have one account, right?\\nLet me take a look because it did pop up when you called to accounts, um, hold on.\\nWell, that other account, I sold my house. I sold it.\\nYou make\\nOK, so that's probably why it came up um under your name, but that's why I made sure to confirm the address. So yes, ma'am, the 9118 Walter Boutte Street is the one that we're um referencing.\\nOK, so you sure it's nothing on the other side, on that other property.\\nYes.\\nLet me look back. Um,\\nI just wanna make sure\\nYeah, because if it was sold, then you know there shouldn't be any information on it. Let me see, so the 1908 Lily Street, that one has been sold.\\nRight, that's it.\\nOK, alright, let's take a look at that one. Yeah, there's nothing under that account that I can see, ma'am.\\nOK, I just wanted to make sure.\\nYeah. Oh, I understand. Trust me.\\nJust me. All right. So 1908 Moly Street. Hold on. Let me look because.\\nUh yeah, so then this one was.\\nSo we should be good.\\nI'm gonna follow up with your account manager on that account just to make sure the account manager on that one just to make sure, but um we're gonna go ahead and only take care of the uh Walter Boutique address.\\nOK.\\nOK.\\nAlright, so I'm I'm ready for that card number, Ms. Lizenby.\\nAnd you said it's 50?\\n$50.72 yes ma'am.\\nSo that's gonna be every month from now?\\nYes, that, so I can tell you your monthly payment from now on. Hold on, let me look at your statements.\\nSo according to your statement, it's $55.12 but you had a $4.04 credit that went towards that. So that's why you're only paying $50.72 this month, but your regular monthly payments are the $55.12. But what's due right now because you had a $4 credit, $4.40 credit, I'm not sure why it doesn't tell me why, but.\\nOh, it looks like you had a credit and then $4.40 of that credit went to January's payment and so that's why your payment for January is only $50.72.\\nSo the regular payment would be 5512.\\nYes, ma'am.\\nOK, alright, card number?\\nAll right.\\nI'm ready. Yep, I'm ready.\\n5507\\n62590513\\n2123\\nAlright, I'm gonna just repeat it back just to make sure I have it correct. I have 5507625905132123.\\nThat's right.\\nAlright, expiration date?\\nMarch 25.\\nAll right, and then the CVV code for that card.\\n914.\\nAlright, do you want me to save this card to the account?\\nOh.\\nYou, I'm waiting on I guess you can I, um, I'm waiting on a this is a temporary card from my bank.\\nOh, got you, got you, got you.\\nYeah, so they said another card, so you don't have to probably, hopefully by the time the next month comes around, I'll have my new card. It's up to you.\\nOK.\\nMhm. Well, yeah, no worries, because I mean whenever you're ready you can just call us in and we can just put the correct one or the updated one on the account. So listen listen be, so, um, um, you're gonna write down your confirmation number because I don't have OK, what is the email that that you want this confirmation to go to because they don't have an email saved for you.\\nOK then.\\nNo.\\nLizenby.\\nR as in Rita.\\nUh-huh.\\n67 at gmail.com.\\nAlright, so I have Liz BR67 at gmail.com.\\nThat's correct.\\nAlright, perfect. Alright, Ms. Lisamy, so we're gonna go ahead and process that payment. That payment has processed and the confirmation number has been sent to your new email address. Um, I'm gonna update that email address in our other system as well, so just in case, right?\\nUh.\\nOK then.\\nAlright, Ms. Liby, well thank you so much for calling in today and you have a great rest of your day.\\nYou too and happy New Year to you.\\nHappy New Year to you as well, ma'am. Thank you.\\nOK bye bye.\\nAll righty. Bye-bye.\""
      ]
     },
     "execution_count": 114,
     "metadata": {},
     "output_type": "execute_result"
    }
   ],
   "source": [
    "unmasked_caltions"
   ]
  },
  {
   "cell_type": "markdown",
   "id": "dca25b0d-4acf-45dc-972f-278c7f3560ea",
   "metadata": {
    "tags": []
   },
   "source": [
    "# Masking Function"
   ]
  },
  {
   "cell_type": "code",
   "execution_count": 124,
   "id": "70d974f6-b378-406a-a348-e0096d12636a",
   "metadata": {
    "tags": []
   },
   "outputs": [],
   "source": [
    "def mask_cvv(text, previous_text):\n",
    "    \"\"\"\n",
    "    Masks non-standard CVV patterns with [REDACTED].\n",
    "    Also masks standalone 3-digit responses after an agent's CVV request.\n",
    "    \"\"\"\n",
    "    if not isinstance(text, str):\n",
    "        return text\n",
    "\n",
    "    # Standard and non-standard CVV patterns\n",
    "    cvv_patterns = [\n",
    "        r'\\b(?:cvv|cvv number|security code|verification code|number behind the card|sign bar number|digits on the back)\\s*[:-]?\\s*\\d{3}\\b',\n",
    "        r'\\b(?:three digits on the back|last 3 numbers|security code behind)\\s*[:-]?\\s*\\d{3}\\b',\n",
    "        r'\\b(?:cvv|security code|verification code)\\s*[:-]?\\s*(\\d\\s\\d\\s\\d)\\b'\n",
    "    ]\n",
    "\n",
    "    # Mask CVV if directly mentioned\n",
    "    for pattern in cvv_patterns:\n",
    "        text = re.sub(pattern, \"[REDACTED]\", text, flags=re.IGNORECASE)\n",
    "\n",
    "    # Context-aware masking: If the previous message was an agent asking for CVV\n",
    "    if previous_text and re.search(r'\\b(?:cvv|security code|digits on the back|card verification)\\b', previous_text, re.IGNORECASE):\n",
    "        text = re.sub(r'\\b\\d{3}\\b', \"[REDACTED]\", text)  # Mask standalone 3-digit numbers\n",
    "\n",
    "    return text\n",
    "\n",
    "def preprocess_text(text, previous_text):\n",
    "    \"\"\"\n",
    "    Applies all placeholder masking functions before passing to DLP.\n",
    "    \"\"\"\n",
    "    return mask_cvv(text, previous_text)\n",
    "\n",
    "def mask_pii_in_captions(contact_id, df, project_id):\n",
    "    \"\"\"\n",
    "    Masks PII data in the 'caption' column of a pandas DataFrame using Google Cloud DLP API.\n",
    "    \"\"\"\n",
    "    logger.info(f\"{contact_id}: Masking PII Data\")\n",
    "\n",
    "    masked_df = df.copy()\n",
    "    masked_df['original_index'] = masked_df.index\n",
    "    masked_df['marked_caption'] = masked_df.index.astype(str) + \"|||SEPARATOR|||\" + masked_df['caption'].astype(str)\n",
    "\n",
    "    # Context-aware preprocessing: Check previous row's text for CVV-related questions\n",
    "    masked_df['previous_caption'] = masked_df['caption'].shift(1)  # Shift for context\n",
    "    masked_df['marked_caption'] = masked_df.apply(lambda row: preprocess_text(row['marked_caption'], row['previous_caption']), axis=1)\n",
    "    \n",
    "    all_captions = \"\\n===RECORD_BOUNDARY===\\n\".join(masked_df['marked_caption'])\n",
    "\n",
    "    # Initialize DLP client\n",
    "    dlp_client = dlp_v2.DlpServiceClient()\n",
    "    parent = f\"projects/{project_id}/locations/global\"\n",
    "\n",
    "    inspect_config = {\n",
    "        \"info_types\": [\n",
    "            {\"name\": \"CREDIT_CARD_NUMBER\"},\n",
    "            {\"name\": \"CREDIT_CARD_EXPIRATION_DATE\"},\n",
    "            {\"name\": \"STREET_ADDRESS\"},\n",
    "            {\"name\": \"IP_ADDRESS\"},\n",
    "            {\"name\": \"DATE_OF_BIRTH\"}\n",
    "        ],\n",
    "        \"min_likelihood\": dlp_v2.Likelihood.POSSIBLE\n",
    "    }\n",
    "\n",
    "    deidentify_config = {\n",
    "        \"info_type_transformations\": {\n",
    "            \"transformations\": [\n",
    "                {\n",
    "                    \"info_types\": [\n",
    "                        {\"name\": \"CREDIT_CARD_NUMBER\"},\n",
    "                        {\"name\": \"CREDIT_CARD_EXPIRATION_DATE\"},\n",
    "                        {\"name\": \"STREET_ADDRESS\"},\n",
    "                        {\"name\": \"IP_ADDRESS\"},\n",
    "                        {\"name\": \"DATE_OF_BIRTH\"}\n",
    "                    ],\n",
    "                    \"primitive_transformation\": {\n",
    "                        \"replace_config\": {\"new_value\": {\"string_value\": \"[REDACTED]\"}}\n",
    "                    }\n",
    "                }\n",
    "            ]\n",
    "        }\n",
    "    }\n",
    "\n",
    "    # Call the DLP API\n",
    "    try:\n",
    "        response = dlp_client.deidentify_content(\n",
    "            request={\"parent\": parent, \"deidentify_config\": deidentify_config, \"inspect_config\": inspect_config, \"item\": {\"value\": all_captions}}\n",
    "        )\n",
    "    except Exception as e:\n",
    "        logger.error(f\"{contact_id}: Error in DLP API call: {e}\")\n",
    "        return df  # Return original DataFrame if masking fails\n",
    "\n",
    "    processed_content = response.item.value\n",
    "    processed_records = processed_content.split(\"\\n===RECORD_BOUNDARY===\\n\")\n",
    "\n",
    "    processed_dict = {int(parts[0]): parts[1] for record in processed_records if (parts := record.split(\"|||SEPARATOR|||\", 1)) and len(parts) == 2}\n",
    "\n",
    "    masked_df['caption'] = masked_df.apply(lambda row: processed_dict.get(row['original_index'], row['caption']), axis=1)\n",
    "    \n",
    "    # Drop temporary columns\n",
    "    masked_df.drop(['original_index', 'marked_caption', 'previous_caption'], axis=1, inplace=True)\n",
    "\n",
    "    logger.info(f\"{contact_id}: Completed Masking PII Data\")\n",
    "    return masked_df\n"
   ]
  },
  {
   "cell_type": "markdown",
   "id": "cedcbf36-2642-47bf-9ef9-27aa9241ab32",
   "metadata": {},
   "source": [
    "# masking Utils"
   ]
  },
  {
   "cell_type": "code",
   "execution_count": 125,
   "id": "a6b7ec7c-1e25-4022-b25c-92b1fcf0f2c3",
   "metadata": {
    "tags": []
   },
   "outputs": [
    {
     "name": "stderr",
     "output_type": "stream",
     "text": [
      "INFO:__main__:868375c1-2111-4990-b9d2-36693c7bad46: Masking PII Data\n",
      "INFO:__main__:868375c1-2111-4990-b9d2-36693c7bad46: Completed Masking PII Data\n"
     ]
    }
   ],
   "source": [
    "masked_df=mask_pii_in_captions(\n",
    "    contact_id,\n",
    "    result,\n",
    "    project_id\n",
    ")\n",
    "# # Concatenate all captions for bulk processing\n",
    "# all_captions = \"\\n\".join(result['caption'].astype(str).tolist())\n",
    "# all_captions"
   ]
  },
  {
   "cell_type": "code",
   "execution_count": 126,
   "id": "b03bbd60-aa64-4dbf-8883-507015c38d7d",
   "metadata": {},
   "outputs": [
    {
     "data": {
      "text/plain": [
       "56              All right, and then the CVV code for that card.\n",
       "57                                                  [REDACTED].\n",
       "58    Alright, do you want me to save this card to the account?\n",
       "Name: caption, dtype: object"
      ]
     },
     "execution_count": 126,
     "metadata": {},
     "output_type": "execute_result"
    }
   ],
   "source": [
    "# masked_df[['caption']]\n",
    "masked_df['caption'][56:59]"
   ]
  },
  {
   "cell_type": "code",
   "execution_count": 127,
   "id": "91570981-84b0-42ed-a1ff-7c2203a65e77",
   "metadata": {
    "tags": []
   },
   "outputs": [
    {
     "data": {
      "text/plain": [
       "'All right, and then the CVV code for that card.\\n[REDACTED].\\nAlright, do you want me to save this card to the account?'"
      ]
     },
     "execution_count": 127,
     "metadata": {},
     "output_type": "execute_result"
    }
   ],
   "source": [
    "\"\\n\".join(masked_df['caption'][56:59])"
   ]
  },
  {
   "cell_type": "code",
   "execution_count": 132,
   "id": "c23e50d8-886b-49b5-a0da-12ae3a86c87c",
   "metadata": {
    "tags": []
   },
   "outputs": [
    {
     "data": {
      "text/html": [
       "<div>\n",
       "<style scoped>\n",
       "    .dataframe tbody tr th:only-of-type {\n",
       "        vertical-align: middle;\n",
       "    }\n",
       "\n",
       "    .dataframe tbody tr th {\n",
       "        vertical-align: top;\n",
       "    }\n",
       "\n",
       "    .dataframe thead th {\n",
       "        text-align: right;\n",
       "    }\n",
       "</style>\n",
       "<table border=\"1\" class=\"dataframe\">\n",
       "  <thead>\n",
       "    <tr style=\"text-align: right;\">\n",
       "      <th></th>\n",
       "      <th>contact_id</th>\n",
       "      <th>Begin_Offset</th>\n",
       "      <th>End_Offset</th>\n",
       "      <th>speaker_tag</th>\n",
       "      <th>caption</th>\n",
       "      <th>call_language</th>\n",
       "    </tr>\n",
       "  </thead>\n",
       "  <tbody>\n",
       "    <tr>\n",
       "      <th>54</th>\n",
       "      <td>868375c1-2111-4990-b9d2-36693c7bad46</td>\n",
       "      <td>237270</td>\n",
       "      <td>238699</td>\n",
       "      <td>AGENT</td>\n",
       "      <td>Alright, expiration date?</td>\n",
       "      <td>en-US</td>\n",
       "    </tr>\n",
       "    <tr>\n",
       "      <th>55</th>\n",
       "      <td>868375c1-2111-4990-b9d2-36693c7bad46</td>\n",
       "      <td>239360</td>\n",
       "      <td>241639</td>\n",
       "      <td>CUSTOMER</td>\n",
       "      <td>March 25.</td>\n",
       "      <td>en-US</td>\n",
       "    </tr>\n",
       "    <tr>\n",
       "      <th>56</th>\n",
       "      <td>868375c1-2111-4990-b9d2-36693c7bad46</td>\n",
       "      <td>242449</td>\n",
       "      <td>245550</td>\n",
       "      <td>AGENT</td>\n",
       "      <td>All right, and then the CVV code for that card.</td>\n",
       "      <td>en-US</td>\n",
       "    </tr>\n",
       "    <tr>\n",
       "      <th>57</th>\n",
       "      <td>868375c1-2111-4990-b9d2-36693c7bad46</td>\n",
       "      <td>246350</td>\n",
       "      <td>247919</td>\n",
       "      <td>CUSTOMER</td>\n",
       "      <td>[REDACTED].</td>\n",
       "      <td>en-US</td>\n",
       "    </tr>\n",
       "    <tr>\n",
       "      <th>58</th>\n",
       "      <td>868375c1-2111-4990-b9d2-36693c7bad46</td>\n",
       "      <td>248479</td>\n",
       "      <td>251470</td>\n",
       "      <td>AGENT</td>\n",
       "      <td>Alright, do you want me to save this card to the account?</td>\n",
       "      <td>en-US</td>\n",
       "    </tr>\n",
       "  </tbody>\n",
       "</table>\n",
       "</div>"
      ],
      "text/plain": [
       "                              contact_id  Begin_Offset  End_Offset  \\\n",
       "54  868375c1-2111-4990-b9d2-36693c7bad46        237270      238699   \n",
       "55  868375c1-2111-4990-b9d2-36693c7bad46        239360      241639   \n",
       "56  868375c1-2111-4990-b9d2-36693c7bad46        242449      245550   \n",
       "57  868375c1-2111-4990-b9d2-36693c7bad46        246350      247919   \n",
       "58  868375c1-2111-4990-b9d2-36693c7bad46        248479      251470   \n",
       "\n",
       "   speaker_tag                                                    caption  \\\n",
       "54       AGENT                                  Alright, expiration date?   \n",
       "55    CUSTOMER                                                  March 25.   \n",
       "56       AGENT            All right, and then the CVV code for that card.   \n",
       "57    CUSTOMER                                                [REDACTED].   \n",
       "58       AGENT  Alright, do you want me to save this card to the account?   \n",
       "\n",
       "   call_language  \n",
       "54         en-US  \n",
       "55         en-US  \n",
       "56         en-US  \n",
       "57         en-US  \n",
       "58         en-US  "
      ]
     },
     "execution_count": 132,
     "metadata": {},
     "output_type": "execute_result"
    }
   ],
   "source": [
    "masked_df[54:59]"
   ]
  },
  {
   "cell_type": "code",
   "execution_count": 133,
   "id": "b228d12f-246b-401b-b612-3ec309818e9e",
   "metadata": {
    "tags": []
   },
   "outputs": [
    {
     "data": {
      "text/html": [
       "<div>\n",
       "<style scoped>\n",
       "    .dataframe tbody tr th:only-of-type {\n",
       "        vertical-align: middle;\n",
       "    }\n",
       "\n",
       "    .dataframe tbody tr th {\n",
       "        vertical-align: top;\n",
       "    }\n",
       "\n",
       "    .dataframe thead th {\n",
       "        text-align: right;\n",
       "    }\n",
       "</style>\n",
       "<table border=\"1\" class=\"dataframe\">\n",
       "  <thead>\n",
       "    <tr style=\"text-align: right;\">\n",
       "      <th></th>\n",
       "      <th>contact_id</th>\n",
       "      <th>Begin_Offset</th>\n",
       "      <th>End_Offset</th>\n",
       "      <th>speaker_tag</th>\n",
       "      <th>caption</th>\n",
       "      <th>call_language</th>\n",
       "    </tr>\n",
       "  </thead>\n",
       "  <tbody>\n",
       "    <tr>\n",
       "      <th>54</th>\n",
       "      <td>868375c1-2111-4990-b9d2-36693c7bad46</td>\n",
       "      <td>237270</td>\n",
       "      <td>238699</td>\n",
       "      <td>AGENT</td>\n",
       "      <td>Alright, expiration date?</td>\n",
       "      <td>en-US</td>\n",
       "    </tr>\n",
       "    <tr>\n",
       "      <th>55</th>\n",
       "      <td>868375c1-2111-4990-b9d2-36693c7bad46</td>\n",
       "      <td>239360</td>\n",
       "      <td>241639</td>\n",
       "      <td>CUSTOMER</td>\n",
       "      <td>March 25.</td>\n",
       "      <td>en-US</td>\n",
       "    </tr>\n",
       "    <tr>\n",
       "      <th>56</th>\n",
       "      <td>868375c1-2111-4990-b9d2-36693c7bad46</td>\n",
       "      <td>242449</td>\n",
       "      <td>245550</td>\n",
       "      <td>AGENT</td>\n",
       "      <td>All right, and then the CVV code for that card.</td>\n",
       "      <td>en-US</td>\n",
       "    </tr>\n",
       "    <tr>\n",
       "      <th>57</th>\n",
       "      <td>868375c1-2111-4990-b9d2-36693c7bad46</td>\n",
       "      <td>246350</td>\n",
       "      <td>247919</td>\n",
       "      <td>CUSTOMER</td>\n",
       "      <td>914.</td>\n",
       "      <td>en-US</td>\n",
       "    </tr>\n",
       "    <tr>\n",
       "      <th>58</th>\n",
       "      <td>868375c1-2111-4990-b9d2-36693c7bad46</td>\n",
       "      <td>248479</td>\n",
       "      <td>251470</td>\n",
       "      <td>AGENT</td>\n",
       "      <td>Alright, do you want me to save this card to the account?</td>\n",
       "      <td>en-US</td>\n",
       "    </tr>\n",
       "  </tbody>\n",
       "</table>\n",
       "</div>"
      ],
      "text/plain": [
       "                              contact_id  Begin_Offset  End_Offset  \\\n",
       "54  868375c1-2111-4990-b9d2-36693c7bad46        237270      238699   \n",
       "55  868375c1-2111-4990-b9d2-36693c7bad46        239360      241639   \n",
       "56  868375c1-2111-4990-b9d2-36693c7bad46        242449      245550   \n",
       "57  868375c1-2111-4990-b9d2-36693c7bad46        246350      247919   \n",
       "58  868375c1-2111-4990-b9d2-36693c7bad46        248479      251470   \n",
       "\n",
       "   speaker_tag                                                    caption  \\\n",
       "54       AGENT                                  Alright, expiration date?   \n",
       "55    CUSTOMER                                                  March 25.   \n",
       "56       AGENT            All right, and then the CVV code for that card.   \n",
       "57    CUSTOMER                                                       914.   \n",
       "58       AGENT  Alright, do you want me to save this card to the account?   \n",
       "\n",
       "   call_language  \n",
       "54         en-US  \n",
       "55         en-US  \n",
       "56         en-US  \n",
       "57         en-US  \n",
       "58         en-US  "
      ]
     },
     "execution_count": 133,
     "metadata": {},
     "output_type": "execute_result"
    }
   ],
   "source": [
    "result[54:59]"
   ]
  },
  {
   "cell_type": "code",
   "execution_count": 130,
   "id": "12deffcd-2727-4658-87ec-387c813009b6",
   "metadata": {
    "tags": []
   },
   "outputs": [
    {
     "data": {
      "text/plain": [
       "\"Good afternoon. Thank you for calling Positron. This is Brittany on a recorded line. How may I assist you today?\\nYes ma'am, this is Regal Liby. How are you doing?\\nI'm well, thank you for asking, Ms. Liamby. How are you doing today?\\nYeah, I'm OK.\\nMhm. How can I help you today?\\nUm,\\nWell, I'm sure I owe something.\\nOK, alright, so can you confirm your service address so that I can pull up your account?\\n911\\n[REDACTED]\\nAll right, let's take a look.\\nAlright, so yes, you were due on the 1st and the payment amount is $50.72.\\nAlright, are you, do you want me to use the Mastercard that we have on file or do you wanna use your bank account?\\nNo, ma'am.\\nNo ma'am, I'm gonna give you a new card. You said it's $50?\\nOK.\\n$50.72. Yes, ma'am. 4.\\nThey only have one account, right?\\nLet me take a look because it did pop up when you called to accounts, um, hold on.\\nWell, that other account, I sold my house. I sold it.\\nYou make\\nOK, so that's probably why it came up um under your name, but that's why I made sure to confirm the address. So yes, ma'am, the [REDACTED] is the one that we're um referencing.\\nOK, so you sure it's nothing on the other side, on that other property.\\nYes.\\nLet me look back. Um,\\nI just wanna make sure\\nYeah, because if it was sold, then you know there shouldn't be any information on it. Let me see, so the 1908 Lily Street, that one has been sold.\\nRight, that's it.\\nOK, alright, let's take a look at that one. Yeah, there's nothing under that account that I can see, ma'am.\\nOK, I just wanted to make sure.\\nYeah. Oh, I understand. Trust me.\\nJust me. All right. So [REDACTED]. Hold on. Let me look because.\\nUh yeah, so then this one was.\\nSo we should be good.\\nI'm gonna follow up with your account manager on that account just to make sure the account manager on that one just to make sure, but um we're gonna go ahead and only take care of the uh Walter Boutique address.\\nOK.\\nOK.\\nAlright, so I'm I'm ready for that card number, Ms. Lizenby.\\nAnd you said it's 50?\\n$50.72 yes ma'am.\\nSo that's gonna be every month from now?\\nYes, that, so I can tell you your monthly payment from now on. Hold on, let me look at your statements.\\nSo according to your statement, it's $55.12 but you had a $4.04 credit that went towards that. So that's why you're only paying $50.72 this month, but your regular monthly payments are the $55.12. But what's due right now because you had a $4 credit, $4.40 credit, I'm not sure why it doesn't tell me why, but.\\nOh, it looks like you had a credit and then $4.40 of that credit went to January's payment and so that's why your payment for January is only $50.72.\\nSo the regular payment would be 5512.\\nYes, ma'am.\\nOK, alright, card number?\\nAll right.\\nI'm ready. Yep, I'm ready.\\n5507\\n62590513\\n2123\\nAlright, I'm gonna just repeat it back just to make sure I have it correct. I have [REDACTED].\\nThat's right.\\nAlright, expiration date?\\nMarch 25.\\nAll right, and then the CVV code for that card.\\n[REDACTED].\\nAlright, do you want me to save this card to the account?\\nOh.\\nYou, I'm waiting on I guess you can I, um, I'm waiting on a this is a temporary card from my bank.\\nOh, got you, got you, got you.\\nYeah, so they said another card, so you don't have to probably, hopefully by the time the next month comes around, I'll have my new card. It's up to you.\\nOK.\\nMhm. Well, yeah, no worries, because I mean whenever you're ready you can just call us in and we can just put the correct one or the updated one on the account. So listen listen be, so, um, um, you're gonna write down your confirmation number because I don't have OK, what is the email that that you want this confirmation to go to because they don't have an email saved for you.\\nOK then.\\nNo.\\nLizenby.\\nR as in Rita.\\nUh-huh.\\n67 at gmail.com.\\nAlright, so I have Liz BR67 at gmail.com.\\nThat's correct.\\nAlright, perfect. Alright, Ms. Lisamy, so we're gonna go ahead and process that payment. That payment has processed and the confirmation number has been sent to your new email address. Um, I'm gonna update that email address in our other system as well, so just in case, right?\\nUh.\\nOK then.\\nAlright, Ms. Liby, well thank you so much for calling in today and you have a great rest of your day.\\nYou too and happy New Year to you.\\nHappy New Year to you as well, ma'am. Thank you.\\nOK bye bye.\\nAll righty. Bye-bye.\""
      ]
     },
     "execution_count": 130,
     "metadata": {},
     "output_type": "execute_result"
    }
   ],
   "source": [
    "\"\\n\".join(masked_df['caption'])"
   ]
  },
  {
   "cell_type": "code",
   "execution_count": 131,
   "id": "c0473352-cbaf-465c-9197-05fac5f713fc",
   "metadata": {
    "tags": []
   },
   "outputs": [
    {
     "data": {
      "text/plain": [
       "\"Good afternoon. Thank you for calling Positron. This is Brittany on a recorded line. How may I assist you today?\\nYes ma'am, this is Regal Liby. How are you doing?\\nI'm well, thank you for asking, Ms. Liamby. How are you doing today?\\nYeah, I'm OK.\\nMhm. How can I help you today?\\nUm,\\nWell, I'm sure I owe something.\\nOK, alright, so can you confirm your service address so that I can pull up your account?\\n911\\n8 Walter Butte Street Jeanette, Louisiana 70544\\nAll right, let's take a look.\\nAlright, so yes, you were due on the 1st and the payment amount is $50.72.\\nAlright, are you, do you want me to use the Mastercard that we have on file or do you wanna use your bank account?\\nNo, ma'am.\\nNo ma'am, I'm gonna give you a new card. You said it's $50?\\nOK.\\n$50.72. Yes, ma'am. 4.\\nThey only have one account, right?\\nLet me take a look because it did pop up when you called to accounts, um, hold on.\\nWell, that other account, I sold my house. I sold it.\\nYou make\\nOK, so that's probably why it came up um under your name, but that's why I made sure to confirm the address. So yes, ma'am, the 9118 Walter Boutte Street is the one that we're um referencing.\\nOK, so you sure it's nothing on the other side, on that other property.\\nYes.\\nLet me look back. Um,\\nI just wanna make sure\\nYeah, because if it was sold, then you know there shouldn't be any information on it. Let me see, so the 1908 Lily Street, that one has been sold.\\nRight, that's it.\\nOK, alright, let's take a look at that one. Yeah, there's nothing under that account that I can see, ma'am.\\nOK, I just wanted to make sure.\\nYeah. Oh, I understand. Trust me.\\nJust me. All right. So 1908 Moly Street. Hold on. Let me look because.\\nUh yeah, so then this one was.\\nSo we should be good.\\nI'm gonna follow up with your account manager on that account just to make sure the account manager on that one just to make sure, but um we're gonna go ahead and only take care of the uh Walter Boutique address.\\nOK.\\nOK.\\nAlright, so I'm I'm ready for that card number, Ms. Lizenby.\\nAnd you said it's 50?\\n$50.72 yes ma'am.\\nSo that's gonna be every month from now?\\nYes, that, so I can tell you your monthly payment from now on. Hold on, let me look at your statements.\\nSo according to your statement, it's $55.12 but you had a $4.04 credit that went towards that. So that's why you're only paying $50.72 this month, but your regular monthly payments are the $55.12. But what's due right now because you had a $4 credit, $4.40 credit, I'm not sure why it doesn't tell me why, but.\\nOh, it looks like you had a credit and then $4.40 of that credit went to January's payment and so that's why your payment for January is only $50.72.\\nSo the regular payment would be 5512.\\nYes, ma'am.\\nOK, alright, card number?\\nAll right.\\nI'm ready. Yep, I'm ready.\\n5507\\n62590513\\n2123\\nAlright, I'm gonna just repeat it back just to make sure I have it correct. I have 5507625905132123.\\nThat's right.\\nAlright, expiration date?\\nMarch 25.\\nAll right, and then the CVV code for that card.\\n914.\\nAlright, do you want me to save this card to the account?\\nOh.\\nYou, I'm waiting on I guess you can I, um, I'm waiting on a this is a temporary card from my bank.\\nOh, got you, got you, got you.\\nYeah, so they said another card, so you don't have to probably, hopefully by the time the next month comes around, I'll have my new card. It's up to you.\\nOK.\\nMhm. Well, yeah, no worries, because I mean whenever you're ready you can just call us in and we can just put the correct one or the updated one on the account. So listen listen be, so, um, um, you're gonna write down your confirmation number because I don't have OK, what is the email that that you want this confirmation to go to because they don't have an email saved for you.\\nOK then.\\nNo.\\nLizenby.\\nR as in Rita.\\nUh-huh.\\n67 at gmail.com.\\nAlright, so I have Liz BR67 at gmail.com.\\nThat's correct.\\nAlright, perfect. Alright, Ms. Lisamy, so we're gonna go ahead and process that payment. That payment has processed and the confirmation number has been sent to your new email address. Um, I'm gonna update that email address in our other system as well, so just in case, right?\\nUh.\\nOK then.\\nAlright, Ms. Liby, well thank you so much for calling in today and you have a great rest of your day.\\nYou too and happy New Year to you.\\nHappy New Year to you as well, ma'am. Thank you.\\nOK bye bye.\\nAll righty. Bye-bye.\""
      ]
     },
     "execution_count": 131,
     "metadata": {},
     "output_type": "execute_result"
    }
   ],
   "source": [
    "unmasked_caltions"
   ]
  },
  {
   "cell_type": "code",
   "execution_count": null,
   "id": "500a124a-a118-43f5-9dab-12e43ada4361",
   "metadata": {},
   "outputs": [],
   "source": []
  }
 ],
 "metadata": {
  "environment": {
   "kernel": "posigen",
   "name": "workbench-notebooks.m127",
   "type": "gcloud",
   "uri": "us-docker.pkg.dev/deeplearning-platform-release/gcr.io/workbench-notebooks:m127"
  },
  "kernelspec": {
   "display_name": "posigen (Local)",
   "language": "python",
   "name": "posigen"
  },
  "language_info": {
   "codemirror_mode": {
    "name": "ipython",
    "version": 3
   },
   "file_extension": ".py",
   "mimetype": "text/x-python",
   "name": "python",
   "nbconvert_exporter": "python",
   "pygments_lexer": "ipython3",
   "version": "3.13.2"
  }
 },
 "nbformat": 4,
 "nbformat_minor": 5
}
