{
 "cells": [
  {
   "cell_type": "code",
   "execution_count": 3,
   "id": "c1ffbb97-b4a4-410e-ba90-9dbc7110e725",
   "metadata": {
    "tags": []
   },
   "outputs": [],
   "source": [
    "import pandas as pd\n",
    "import json\n",
    "import logging\n",
    "from transformers import AutoTokenizer\n",
    "import re"
   ]
  },
  {
   "cell_type": "code",
   "execution_count": 4,
   "id": "9ee4eca4-f9c4-4dd2-b358-74fbca16239b",
   "metadata": {
    "tags": []
   },
   "outputs": [],
   "source": [
    "logging.basicConfig(level=logging.INFO)\n",
    "logger = logging.getLogger(__name__)"
   ]
  },
  {
   "cell_type": "code",
   "execution_count": 5,
   "id": "c14b6441-1f13-41ea-a78f-3362aeaf0eb5",
   "metadata": {
    "tags": []
   },
   "outputs": [],
   "source": [
    "def process_transcript(\n",
    "    contact_id,\n",
    "    transcript_data,\n",
    "    tokenizer\n",
    "):\n",
    "    \"\"\"\n",
    "    Pre-process the transcript loaded from S3 Buckets:\n",
    "    1. Load the transcript as Pandas Dataframe.\n",
    "    2. Select only the necessary columns ['BeginOffsetMillis', 'EndOffsetMillis', 'ParticipantId', 'Content'].\n",
    "    3. Format the time in minutes and seconds.\n",
    "    4. Rename the columns for better understanding.\n",
    "    \"\"\"\n",
    "    try:\n",
    "        logger.info(f\"{contact_id}: Loading the Transcript as Pandas Dataframe.\")\n",
    "        \n",
    "        # Load the transcript into a DataFrame\n",
    "        transcript_df = pd.json_normalize(transcript_data['Transcript'])\n",
    "\n",
    "        # Select the relevant Columns\n",
    "        columns_to_select = [\n",
    "            'BeginOffsetMillis',\n",
    "            'EndOffsetMillis',\n",
    "            'ParticipantId',\n",
    "            'Content'\n",
    "        ]\n",
    "        formatted_df = transcript_df[columns_to_select].copy()\n",
    "\n",
    "        # Rename columns\n",
    "        formatted_df = formatted_df.rename(columns={\n",
    "            'BeginOffsetMillis': 'Begin_Offset',\n",
    "            'EndOffsetMillis': 'End_Offset',\n",
    "            'Content': 'caption',\n",
    "            'ParticipantId': 'speaker_tag'\n",
    "        })\n",
    "\n",
    "        # Inserting the Call ID and Language Code:\n",
    "        formatted_df.insert(loc=0, column='contact_id', value=contact_id)\n",
    "        formatted_df['call_language'] = transcript_data.get('LanguageCode', 'Unknown')\n",
    "\n",
    "        logger.info(f\"{contact_id}: Returning formatted DataFrame.\")\n",
    "        return formatted_df\n",
    "\n",
    "    except Exception as e:\n",
    "        logger.error(f\"Error processing transcript: {str(e)}\")\n",
    "        raise"
   ]
  },
  {
   "cell_type": "code",
   "execution_count": 6,
   "id": "a9715aad-83be-431b-8b31-b1db4f77dc2f",
   "metadata": {
    "tags": []
   },
   "outputs": [
    {
     "name": "stderr",
     "output_type": "stream",
     "text": [
      "INFO:__main__:868375c1-2111-4990-b9d2-36693c7bad46: Loading the Transcript as Pandas Dataframe.\n",
      "INFO:__main__:868375c1-2111-4990-b9d2-36693c7bad46: Returning formatted DataFrame.\n"
     ]
    }
   ],
   "source": [
    "with open('868375c1-2111-4990-b9d2-36693c7bad46_analysis_2025-01-06T18_29_18Z.json', 'r') as f:\n",
    "    transcript_data = json.load(f)\n",
    "\n",
    "MODEL = f\"cardiffnlp/twitter-roberta-base-sentiment-latest\"\n",
    "tokenizer = AutoTokenizer.from_pretrained(MODEL)\n",
    "\n",
    "contact_id = '868375c1-2111-4990-b9d2-36693c7bad46'\n",
    "result = process_transcript(contact_id, transcript_data, tokenizer)"
   ]
  },
  {
   "cell_type": "code",
   "execution_count": 7,
   "id": "f94c2a8f-4909-4af6-8aaf-bd0ee24cddbc",
   "metadata": {
    "tags": []
   },
   "outputs": [],
   "source": [
    "project_id = \"dev-posigen\"\n",
    "secret_id = \"dev-cx-voiceai\""
   ]
  },
  {
   "cell_type": "code",
   "execution_count": 19,
   "id": "dee139c9-a067-4d47-8e2b-f87d618f04de",
   "metadata": {
    "tags": []
   },
   "outputs": [],
   "source": [
    "def mask_pii_in_captions(\n",
    "    contact_id,\n",
    "    df,\n",
    "    project_id\n",
    "):\n",
    "    logger.info(f\"{contact_id}: Masking PII Data\")\n",
    "    masked_df = df.copy()\n",
    "    masked_df['original_index'] = masked_df.index\n",
    "    masked_df['marked_caption'] = masked_df.index.astype(str) + \"|||SEPARATOR|||\" + masked_df['caption'].astype(str)\n",
    "    all_captions = \"\\n===RECORD_BOUNDARY===\\n\".join(masked_df['marked_caption'])\n",
    "    dlp_client = dlp_v2.DlpServiceClient()\n",
    "    parent = f\"projects/{project_id}/locations/global\"\n",
    "    posigen_dictionary = {\n",
    "        \"info_type\": {\"name\": \"CUSTOM_DICTIONARY_POSIGEN\"},\n",
    "        \"dictionary\": {\n",
    "            \"word_list\": {\n",
    "                \"words\": [\"posigen\", \"Posigen\", \"PosiGen\", \"POSIGEN\"]\n",
    "            }\n",
    "        }\n",
    "    }\n",
    "    custom_cvv_detector = {\n",
    "        \"info_type\": {\"name\": \"CUSTOM_CVV\"},\n",
    "        \"regex\": {\"pattern\": r\"(?:CVV|CVC|code|behind the card|near the sign bar)[^\\d]*(\\d{3,4})\"}\n",
    "    }\n",
    "    inspect_config = {\n",
    "        \"info_types\": [\n",
    "            {\"name\": \"CREDIT_CARD_NUMBER\"},\n",
    "            {\"name\": \"CREDIT_CARD_EXPIRATION_DATE\"},\n",
    "            {\"name\": \"STREET_ADDRESS\"},\n",
    "            {\"name\": \"IP_ADDRESS\"},\n",
    "            {\"name\": \"DATE_OF_BIRTH\"}\n",
    "        ],\n",
    "        \"min_likelihood\": dlp_v2.Likelihood.POSSIBLE,\n",
    "        \"custom_info_types\": [posigen_dictionary, custom_cvv_detector],\n",
    "    }\n",
    "    deidentify_config = {\n",
    "        \"info_type_transformations\": {\n",
    "            \"transformations\": [\n",
    "                {\n",
    "                    \"info_types\": [\n",
    "                        {\"name\": \"CREDIT_CARD_NUMBER\"},\n",
    "                        {\"name\": \"CREDIT_CARD_EXPIRATION_DATE\"},\n",
    "                        {\"name\": \"STREET_ADDRESS\"},\n",
    "                        {\"name\": \"IP_ADDRESS\"},\n",
    "                        {\"name\": \"DATE_OF_BIRTH\"}\n",
    "                    ],\n",
    "                    \"primitive_transformation\": {\n",
    "                        \"replace_config\": {\n",
    "                            \"new_value\": {\"string_value\": \"[REDACTED]\"}\n",
    "                        }\n",
    "                    }\n",
    "                }\n",
    "            ]\n",
    "        }\n",
    "    }\n",
    "    item = {\"value\": all_captions}\n",
    "    try:\n",
    "        response = dlp_client.deidentify_content(\n",
    "            request={\n",
    "                \"parent\": parent,\n",
    "                \"deidentify_config\": deidentify_config,\n",
    "                \"inspect_config\": inspect_config,\n",
    "                \"item\": item,\n",
    "            }\n",
    "        )\n",
    "    except Exception as e:\n",
    "        logger.error(f\"{contact_id}: Error in DLP API call: {e}\")\n",
    "        return df\n",
    "    processed_content = response.item.value\n",
    "    processed_records = processed_content.split(\"\\n===RECORD_BOUNDARY===\\n\")\n",
    "    processed_dict = {}\n",
    "    for record in processed_records:\n",
    "        parts = record.split(\"|||SEPARATOR|||\", 1)\n",
    "        if len(parts) == 2:\n",
    "            idx, content = parts\n",
    "            processed_dict[int(idx)] = content\n",
    "    masked_df['caption'] = masked_df.apply(\n",
    "        lambda row: processed_dict.get(row['original_index'], row['caption']), \n",
    "        axis=1\n",
    "    )\n",
    "    def mask_consecutive_card_numbers(df):\n",
    "        concatenated_number = \"\"\n",
    "        indices_to_mask = []\n",
    "        for i, row in df.iterrows():\n",
    "            cleaned_caption = row['caption'].replace(\" \", \"\").replace(\"-\", \"\")\n",
    "            if cleaned_caption.isdigit():\n",
    "                concatenated_number += cleaned_caption\n",
    "                indices_to_mask.append(i)\n",
    "                if 13 <= len(concatenated_number) <= 19:\n",
    "                    for idx in indices_to_mask:\n",
    "                        df.at[idx, 'caption'] = '[REDACTED]'\n",
    "                    concatenated_number = \"\"\n",
    "                    indices_to_mask = []\n",
    "            else:\n",
    "                concatenated_number = \"\"\n",
    "                indices_to_mask = []\n",
    "        return df\n",
    "    masked_df = mask_consecutive_card_numbers(masked_df)\n",
    "    masked_df.drop(['original_index', 'marked_caption'], axis=1, inplace=True)\n",
    "    logger.info(f\"{contact_id}: Completed Masking PII Data\")\n",
    "    return masked_df"
   ]
  },
  {
   "cell_type": "code",
   "execution_count": 20,
   "id": "06fc446f-661d-42c4-b018-21402c0682c1",
   "metadata": {
    "tags": []
   },
   "outputs": [
    {
     "name": "stderr",
     "output_type": "stream",
     "text": [
      "INFO:__main__:868375c1-2111-4990-b9d2-36693c7bad46: Masking PII Data\n",
      "INFO:__main__:868375c1-2111-4990-b9d2-36693c7bad46: Completed Masking PII Data\n"
     ]
    }
   ],
   "source": [
    "masked_df=mask_pii_in_captions(\n",
    "    contact_id,\n",
    "    result,\n",
    "    project_id\n",
    ")"
   ]
  },
  {
   "cell_type": "code",
   "execution_count": 21,
   "id": "a640faf8-4661-48f7-8410-a506b2897f00",
   "metadata": {
    "tags": []
   },
   "outputs": [
    {
     "data": {
      "text/html": [
       "<div>\n",
       "<style scoped>\n",
       "    .dataframe tbody tr th:only-of-type {\n",
       "        vertical-align: middle;\n",
       "    }\n",
       "\n",
       "    .dataframe tbody tr th {\n",
       "        vertical-align: top;\n",
       "    }\n",
       "\n",
       "    .dataframe thead th {\n",
       "        text-align: right;\n",
       "    }\n",
       "</style>\n",
       "<table border=\"1\" class=\"dataframe\">\n",
       "  <thead>\n",
       "    <tr style=\"text-align: right;\">\n",
       "      <th></th>\n",
       "      <th>contact_id</th>\n",
       "      <th>Begin_Offset</th>\n",
       "      <th>End_Offset</th>\n",
       "      <th>speaker_tag</th>\n",
       "      <th>caption</th>\n",
       "      <th>call_language</th>\n",
       "    </tr>\n",
       "  </thead>\n",
       "  <tbody>\n",
       "    <tr>\n",
       "      <th>0</th>\n",
       "      <td>868375c1-2111-4990-b9d2-36693c7bad46</td>\n",
       "      <td>0</td>\n",
       "      <td>4190</td>\n",
       "      <td>AGENT</td>\n",
       "      <td>Good afternoon. Thank you for calling Positron...</td>\n",
       "      <td>en-US</td>\n",
       "    </tr>\n",
       "    <tr>\n",
       "      <th>1</th>\n",
       "      <td>868375c1-2111-4990-b9d2-36693c7bad46</td>\n",
       "      <td>5230</td>\n",
       "      <td>8060</td>\n",
       "      <td>CUSTOMER</td>\n",
       "      <td>Yes ma'am, this is Regal Liby. How are you doing?</td>\n",
       "      <td>en-US</td>\n",
       "    </tr>\n",
       "    <tr>\n",
       "      <th>2</th>\n",
       "      <td>868375c1-2111-4990-b9d2-36693c7bad46</td>\n",
       "      <td>8000</td>\n",
       "      <td>10760</td>\n",
       "      <td>AGENT</td>\n",
       "      <td>I'm well, thank you for asking, Ms. Liamby. Ho...</td>\n",
       "      <td>en-US</td>\n",
       "    </tr>\n",
       "    <tr>\n",
       "      <th>3</th>\n",
       "      <td>868375c1-2111-4990-b9d2-36693c7bad46</td>\n",
       "      <td>11000</td>\n",
       "      <td>12109</td>\n",
       "      <td>CUSTOMER</td>\n",
       "      <td>Yeah, I'm OK.</td>\n",
       "      <td>en-US</td>\n",
       "    </tr>\n",
       "    <tr>\n",
       "      <th>4</th>\n",
       "      <td>868375c1-2111-4990-b9d2-36693c7bad46</td>\n",
       "      <td>12310</td>\n",
       "      <td>14029</td>\n",
       "      <td>AGENT</td>\n",
       "      <td>Mhm. How can I help you today?</td>\n",
       "      <td>en-US</td>\n",
       "    </tr>\n",
       "    <tr>\n",
       "      <th>...</th>\n",
       "      <td>...</td>\n",
       "      <td>...</td>\n",
       "      <td>...</td>\n",
       "      <td>...</td>\n",
       "      <td>...</td>\n",
       "      <td>...</td>\n",
       "    </tr>\n",
       "    <tr>\n",
       "      <th>76</th>\n",
       "      <td>868375c1-2111-4990-b9d2-36693c7bad46</td>\n",
       "      <td>324250</td>\n",
       "      <td>328359</td>\n",
       "      <td>AGENT</td>\n",
       "      <td>Alright, Ms. Liby, well thank you so much for ...</td>\n",
       "      <td>en-US</td>\n",
       "    </tr>\n",
       "    <tr>\n",
       "      <th>77</th>\n",
       "      <td>868375c1-2111-4990-b9d2-36693c7bad46</td>\n",
       "      <td>328779</td>\n",
       "      <td>330850</td>\n",
       "      <td>CUSTOMER</td>\n",
       "      <td>You too and happy New Year to you.</td>\n",
       "      <td>en-US</td>\n",
       "    </tr>\n",
       "    <tr>\n",
       "      <th>78</th>\n",
       "      <td>868375c1-2111-4990-b9d2-36693c7bad46</td>\n",
       "      <td>330170</td>\n",
       "      <td>332630</td>\n",
       "      <td>AGENT</td>\n",
       "      <td>Happy New Year to you as well, ma'am. Thank you.</td>\n",
       "      <td>en-US</td>\n",
       "    </tr>\n",
       "    <tr>\n",
       "      <th>79</th>\n",
       "      <td>868375c1-2111-4990-b9d2-36693c7bad46</td>\n",
       "      <td>332820</td>\n",
       "      <td>333880</td>\n",
       "      <td>CUSTOMER</td>\n",
       "      <td>OK bye bye.</td>\n",
       "      <td>en-US</td>\n",
       "    </tr>\n",
       "    <tr>\n",
       "      <th>80</th>\n",
       "      <td>868375c1-2111-4990-b9d2-36693c7bad46</td>\n",
       "      <td>333600</td>\n",
       "      <td>334660</td>\n",
       "      <td>AGENT</td>\n",
       "      <td>All righty. Bye-bye.</td>\n",
       "      <td>en-US</td>\n",
       "    </tr>\n",
       "  </tbody>\n",
       "</table>\n",
       "<p>81 rows × 6 columns</p>\n",
       "</div>"
      ],
      "text/plain": [
       "                              contact_id  Begin_Offset  End_Offset  \\\n",
       "0   868375c1-2111-4990-b9d2-36693c7bad46             0        4190   \n",
       "1   868375c1-2111-4990-b9d2-36693c7bad46          5230        8060   \n",
       "2   868375c1-2111-4990-b9d2-36693c7bad46          8000       10760   \n",
       "3   868375c1-2111-4990-b9d2-36693c7bad46         11000       12109   \n",
       "4   868375c1-2111-4990-b9d2-36693c7bad46         12310       14029   \n",
       "..                                   ...           ...         ...   \n",
       "76  868375c1-2111-4990-b9d2-36693c7bad46        324250      328359   \n",
       "77  868375c1-2111-4990-b9d2-36693c7bad46        328779      330850   \n",
       "78  868375c1-2111-4990-b9d2-36693c7bad46        330170      332630   \n",
       "79  868375c1-2111-4990-b9d2-36693c7bad46        332820      333880   \n",
       "80  868375c1-2111-4990-b9d2-36693c7bad46        333600      334660   \n",
       "\n",
       "   speaker_tag                                            caption  \\\n",
       "0        AGENT  Good afternoon. Thank you for calling Positron...   \n",
       "1     CUSTOMER  Yes ma'am, this is Regal Liby. How are you doing?   \n",
       "2        AGENT  I'm well, thank you for asking, Ms. Liamby. Ho...   \n",
       "3     CUSTOMER                                      Yeah, I'm OK.   \n",
       "4        AGENT                     Mhm. How can I help you today?   \n",
       "..         ...                                                ...   \n",
       "76       AGENT  Alright, Ms. Liby, well thank you so much for ...   \n",
       "77    CUSTOMER                 You too and happy New Year to you.   \n",
       "78       AGENT   Happy New Year to you as well, ma'am. Thank you.   \n",
       "79    CUSTOMER                                        OK bye bye.   \n",
       "80       AGENT                               All righty. Bye-bye.   \n",
       "\n",
       "   call_language  \n",
       "0          en-US  \n",
       "1          en-US  \n",
       "2          en-US  \n",
       "3          en-US  \n",
       "4          en-US  \n",
       "..           ...  \n",
       "76         en-US  \n",
       "77         en-US  \n",
       "78         en-US  \n",
       "79         en-US  \n",
       "80         en-US  \n",
       "\n",
       "[81 rows x 6 columns]"
      ]
     },
     "execution_count": 21,
     "metadata": {},
     "output_type": "execute_result"
    }
   ],
   "source": [
    "masked_df"
   ]
  },
  {
   "cell_type": "code",
   "execution_count": 22,
   "id": "707a99f9-c676-4a13-81ab-a5a522f0249a",
   "metadata": {
    "tags": []
   },
   "outputs": [
    {
     "data": {
      "text/plain": [
       "40             So that's gonna be every month from now?\n",
       "41    Yes, that, so I can tell you your monthly paym...\n",
       "42    So according to your statement, it's $55.12 bu...\n",
       "43    Oh, it looks like you had a credit and then $4...\n",
       "44                So the regular payment would be 5512.\n",
       "45                                          Yes, ma'am.\n",
       "46                            OK, alright, card number?\n",
       "47                                           All right.\n",
       "48                           I'm ready. Yep, I'm ready.\n",
       "49                                           [REDACTED]\n",
       "50                                           [REDACTED]\n",
       "51                                           [REDACTED]\n",
       "Name: caption, dtype: object"
      ]
     },
     "execution_count": 22,
     "metadata": {},
     "output_type": "execute_result"
    }
   ],
   "source": [
    "masked_df['caption'][40:52]"
   ]
  },
  {
   "cell_type": "code",
   "execution_count": 23,
   "id": "2c04ab39-23a8-4cfd-8793-1bfa2565597a",
   "metadata": {
    "tags": []
   },
   "outputs": [
    {
     "data": {
      "text/plain": [
       "51                                           [REDACTED]\n",
       "52    Alright, I'm gonna just repeat it back just to...\n",
       "53                                        That's right.\n",
       "54                            Alright, expiration date?\n",
       "55                                            March 25.\n",
       "56      All right, and then the CVV code for that card.\n",
       "57                                                 914.\n",
       "58    Alright, do you want me to save this card to t...\n",
       "Name: caption, dtype: object"
      ]
     },
     "execution_count": 23,
     "metadata": {},
     "output_type": "execute_result"
    }
   ],
   "source": [
    "masked_df['caption'][51:59]"
   ]
  },
  {
   "cell_type": "code",
   "execution_count": null,
   "id": "a31c6bfe-b705-428c-930e-4091ba26435a",
   "metadata": {},
   "outputs": [],
   "source": []
  }
 ],
 "metadata": {
  "environment": {
   "kernel": "posigen",
   "name": "workbench-notebooks.m127",
   "type": "gcloud",
   "uri": "us-docker.pkg.dev/deeplearning-platform-release/gcr.io/workbench-notebooks:m127"
  },
  "kernelspec": {
   "display_name": "posigen (Local)",
   "language": "python",
   "name": "posigen"
  },
  "language_info": {
   "codemirror_mode": {
    "name": "ipython",
    "version": 3
   },
   "file_extension": ".py",
   "mimetype": "text/x-python",
   "name": "python",
   "nbconvert_exporter": "python",
   "pygments_lexer": "ipython3",
   "version": "3.13.2"
  }
 },
 "nbformat": 4,
 "nbformat_minor": 5
}
