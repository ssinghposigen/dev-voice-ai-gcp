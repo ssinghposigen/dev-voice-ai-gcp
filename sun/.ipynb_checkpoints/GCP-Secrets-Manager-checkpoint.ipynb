{
 "cells": [
  {
   "cell_type": "code",
   "execution_count": 1,
   "id": "6f84ee8c-0d5b-48fd-9f80-2a12b4ef987f",
   "metadata": {
    "tags": []
   },
   "outputs": [],
   "source": [
    "import json\n",
    "from google.cloud import secretmanager"
   ]
  },
  {
   "cell_type": "code",
   "execution_count": 6,
   "id": "86f75363-80f3-4d3d-ba41-1d196b9757a7",
   "metadata": {
    "tags": []
   },
   "outputs": [],
   "source": [
    "# Initialize the Secret Manager client\n",
    "client = secretmanager.SecretManagerServiceClient()\n",
    "\n",
    "project_id = \"dev-posigen\"\n",
    "secret_id = \"dev-cx-voiceai\"\n",
    "version_id=\"1\"\n",
    "\n",
    "secret_path = f\"projects/{project_id}/secrets/{secret_id}/versions/{version_id}\""
   ]
  },
  {
   "cell_type": "code",
   "execution_count": 7,
   "id": "45a76484-07d2-4b0b-aaa2-3e178973a145",
   "metadata": {
    "tags": []
   },
   "outputs": [],
   "source": [
    "# Step 1: Retrieve the current secret value\n",
    "response = client.access_secret_version(request={\"name\": secret_path})\n",
    "current_secret = json.loads(response.payload.data.decode(\"utf-8\"))  # Convert JSON string to dict"
   ]
  },
  {
   "cell_type": "code",
   "execution_count": 10,
   "id": "426dfac9-5dda-47b5-8590-a47b6c6de211",
   "metadata": {
    "tags": []
   },
   "outputs": [],
   "source": [
    "# Step 2: Read the new .p8 key file\n",
    "with open(\"secrets/snowflakegcp_rsa_key.p8\", \"r\") as f:\n",
    "    private_key_data = f.read()\n",
    "    \n",
    "# Step 3: Append the private key data to the JSON\n",
    "current_secret[\"private_key\"] = private_key_data  # Add a new key or update existing\n",
    "\n",
    "# Step 4: Convert back to JSON and upload a new version\n",
    "updated_secret_value = json.dumps(current_secret)"
   ]
  },
  {
   "cell_type": "code",
   "execution_count": null,
   "id": "a060a2ad-e902-450c-9569-828d087430d6",
   "metadata": {},
   "outputs": [],
   "source": [
    "# Step 5: Add a new version of the updated secret\n",
    "client.add_secret_version(\n",
    "    request={\"parent\": f\"projects/{project_id}/secrets/{secret_id}\", \n",
    "             \"payload\": {\"data\": updated_secret_value.encode(\"utf-8\")}}\n",
    ")\n",
    "\n",
    "# print(\"✅ Successfully updated the secret with the .p8 private key!\")"
   ]
  },
  {
   "cell_type": "code",
   "execution_count": null,
   "id": "be0d8e70-7936-4198-af12-3fdf0a34a1d1",
   "metadata": {},
   "outputs": [],
   "source": []
  }
 ],
 "metadata": {
  "environment": {
   "kernel": "posigen",
   "name": "workbench-notebooks.m127",
   "type": "gcloud",
   "uri": "us-docker.pkg.dev/deeplearning-platform-release/gcr.io/workbench-notebooks:m127"
  },
  "kernelspec": {
   "display_name": "posigen (Local)",
   "language": "python",
   "name": "posigen"
  },
  "language_info": {
   "codemirror_mode": {
    "name": "ipython",
    "version": 3
   },
   "file_extension": ".py",
   "mimetype": "text/x-python",
   "name": "python",
   "nbconvert_exporter": "python",
   "pygments_lexer": "ipython3",
   "version": "3.13.2"
  }
 },
 "nbformat": 4,
 "nbformat_minor": 5
}
