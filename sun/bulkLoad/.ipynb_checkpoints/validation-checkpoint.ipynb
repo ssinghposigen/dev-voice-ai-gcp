{
 "cells": [
  {
   "cell_type": "code",
   "execution_count": 1,
   "id": "bc9b7250-b57f-4167-a4e0-bc874b1080bc",
   "metadata": {
    "tags": []
   },
   "outputs": [],
   "source": [
    "import pandas as pd"
   ]
  },
  {
   "cell_type": "code",
   "execution_count": 85,
   "id": "de95e932-f82b-4296-9ba6-9db8501a9212",
   "metadata": {
    "tags": []
   },
   "outputs": [],
   "source": []
  },
  {
   "cell_type": "code",
   "execution_count": 127,
   "id": "524e3982-b606-471c-aed4-c3e568dad545",
   "metadata": {},
   "outputs": [
    {
     "name": "stdout",
     "output_type": "stream",
     "text": [
      "8002\n",
      "\n",
      "7311\n",
      "\n",
      "691\n",
      "\n",
      "0\n"
     ]
    }
   ],
   "source": [
    "df_list_transcripts = pd.read_csv(\"df_list_transcripts.csv\")\n",
    "print(len(df_list_transcripts))\n",
    "print()\n",
    "df_inter_calls_data = pd.read_csv(\"df_inter_calls_data.csv\")\n",
    "print(len(df_inter_calls_data))\n",
    "print()\n",
    "print(len(set(df_list_transcripts.ID)-set(df_inter_calls_data.CONTACT_ID)))\n",
    "print()\n",
    "diff2 = df_inter_calls_data[~df_inter_calls_data.CONTACT_ID.isin(df_list_transcripts.ID)]\n",
    "print(len(diff2))"
   ]
  },
  {
   "cell_type": "code",
   "execution_count": null,
   "id": "23bb5efb-f822-4ff6-92ed-2aace1fecee2",
   "metadata": {},
   "outputs": [],
   "source": []
  },
  {
   "cell_type": "code",
   "execution_count": null,
   "id": "cc589f0d-e87f-4437-a9d2-4bf44dc2baaa",
   "metadata": {},
   "outputs": [],
   "source": []
  }
 ],
 "metadata": {
  "environment": {
   "kernel": "posigen",
   "name": "workbench-notebooks.m127",
   "type": "gcloud",
   "uri": "us-docker.pkg.dev/deeplearning-platform-release/gcr.io/workbench-notebooks:m127"
  },
  "kernelspec": {
   "display_name": "posigen (Local)",
   "language": "python",
   "name": "posigen"
  },
  "language_info": {
   "codemirror_mode": {
    "name": "ipython",
    "version": 3
   },
   "file_extension": ".py",
   "mimetype": "text/x-python",
   "name": "python",
   "nbconvert_exporter": "python",
   "pygments_lexer": "ipython3",
   "version": "3.13.2"
  }
 },
 "nbformat": 4,
 "nbformat_minor": 5
}
