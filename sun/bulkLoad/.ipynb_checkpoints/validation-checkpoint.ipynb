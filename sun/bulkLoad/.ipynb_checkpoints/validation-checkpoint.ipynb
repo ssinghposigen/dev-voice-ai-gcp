{
 "cells": [
  {
   "cell_type": "code",
   "execution_count": 100,
   "id": "bc9b7250-b57f-4167-a4e0-bc874b1080bc",
   "metadata": {
    "tags": []
   },
   "outputs": [],
   "source": [
    "import pandas as pd\n",
    "import threading\n",
    "import time"
   ]
  },
  {
   "cell_type": "code",
   "execution_count": 102,
   "id": "524e3982-b606-471c-aed4-c3e568dad545",
   "metadata": {},
   "outputs": [
    {
     "name": "stdout",
     "output_type": "stream",
     "text": [
      "1598\n",
      "\n",
      "9152\n",
      "\n",
      "51\n"
     ]
    }
   ],
   "source": [
    "df_list_transcripts = pd.read_csv(\"df_list_transcripts.csv\")\n",
    "print(len(df_list_transcripts))\n",
    "print()\n",
    "df_inter_calls_data = pd.read_csv(\"df_inter_calls_data.csv\")\n",
    "print(len(df_inter_calls_data))\n",
    "print()\n",
    "# print(len(set(df_list_transcripts.ID)-set(df_inter_calls_data.CONTACT_ID)))\n",
    "# print()\n",
    "diff2 = df_list_transcripts[~df_list_transcripts.ID.isin(df_inter_calls_data.CONTACT_ID)]\n",
    "print(len(diff2))"
   ]
  },
  {
   "cell_type": "code",
   "execution_count": 103,
   "id": "56ee0158-330e-4175-b3e7-592cd3b7e9f6",
   "metadata": {},
   "outputs": [
    {
     "name": "stdout",
     "output_type": "stream",
     "text": [
      "\n",
      "🔄 Auto-refreshing data...\n",
      "\n",
      "Total Transcripts: 1598\n",
      "Total Processed Calls: 9154\n",
      "Unprocessed Calls: 49\n",
      "\n"
     ]
    },
    {
     "name": "stdin",
     "output_type": "stream",
     "text": [
      "\n",
      "Press Enter to refresh manually...\n",
      " \n"
     ]
    },
    {
     "name": "stdout",
     "output_type": "stream",
     "text": [
      "Total Transcripts: 1598\n",
      "Total Processed Calls: 9161\n",
      "Unprocessed Calls: 42\n",
      "\n"
     ]
    },
    {
     "name": "stdin",
     "output_type": "stream",
     "text": [
      "\n",
      "Press Enter to refresh manually...\n",
      " \n"
     ]
    },
    {
     "name": "stdout",
     "output_type": "stream",
     "text": [
      "Total Transcripts: 1598\n",
      "Total Processed Calls: 9170\n",
      "Unprocessed Calls: 33\n",
      "\n"
     ]
    },
    {
     "name": "stdin",
     "output_type": "stream",
     "text": [
      "\n",
      "Press Enter to refresh manually...\n",
      " \n"
     ]
    },
    {
     "name": "stdout",
     "output_type": "stream",
     "text": [
      "Total Transcripts: 1598\n",
      "Total Processed Calls: 9170\n",
      "Unprocessed Calls: 33\n",
      "\n"
     ]
    },
    {
     "name": "stdin",
     "output_type": "stream",
     "text": [
      "\n",
      "Press Enter to refresh manually...\n",
      " \n"
     ]
    },
    {
     "name": "stdout",
     "output_type": "stream",
     "text": [
      "Total Transcripts: 1598\n",
      "Total Processed Calls: 9170\n",
      "Unprocessed Calls: 33\n",
      "\n"
     ]
    },
    {
     "name": "stdin",
     "output_type": "stream",
     "text": [
      "\n",
      "Press Enter to refresh manually...\n",
      " \n"
     ]
    },
    {
     "name": "stdout",
     "output_type": "stream",
     "text": [
      "Total Transcripts: 1598\n",
      "Total Processed Calls: 9170\n",
      "Unprocessed Calls: 33\n",
      "\n"
     ]
    },
    {
     "name": "stdin",
     "output_type": "stream",
     "text": [
      "\n",
      "Press Enter to refresh manually...\n",
      " \n"
     ]
    },
    {
     "name": "stdout",
     "output_type": "stream",
     "text": [
      "Total Transcripts: 1598\n",
      "Total Processed Calls: 9170\n",
      "Unprocessed Calls: 33\n",
      "\n"
     ]
    },
    {
     "ename": "KeyboardInterrupt",
     "evalue": "Interrupted by user",
     "output_type": "error",
     "traceback": [
      "\u001b[31m---------------------------------------------------------------------------\u001b[39m",
      "\u001b[31mKeyboardInterrupt\u001b[39m                         Traceback (most recent call last)",
      "\u001b[36mCell\u001b[39m\u001b[36m \u001b[39m\u001b[32mIn[103]\u001b[39m\u001b[32m, line 26\u001b[39m\n\u001b[32m     24\u001b[39m \u001b[38;5;66;03m# Allow manual execution on demand\u001b[39;00m\n\u001b[32m     25\u001b[39m \u001b[38;5;28;01mwhile\u001b[39;00m \u001b[38;5;28;01mTrue\u001b[39;00m:\n\u001b[32m---> \u001b[39m\u001b[32m26\u001b[39m     \u001b[38;5;28;43minput\u001b[39;49m\u001b[43m(\u001b[49m\u001b[33;43m\"\u001b[39;49m\u001b[38;5;130;43;01m\\n\u001b[39;49;00m\u001b[33;43mPress Enter to refresh manually...\u001b[39;49m\u001b[38;5;130;43;01m\\n\u001b[39;49;00m\u001b[33;43m\"\u001b[39;49m\u001b[43m)\u001b[49m\n\u001b[32m     27\u001b[39m     process_data()\n",
      "\u001b[36mFile \u001b[39m\u001b[32m/opt/conda/envs/posigen/lib/python3.13/site-packages/ipykernel/kernelbase.py:1282\u001b[39m, in \u001b[36mKernel.raw_input\u001b[39m\u001b[34m(self, prompt)\u001b[39m\n\u001b[32m   1280\u001b[39m     msg = \u001b[33m\"\u001b[39m\u001b[33mraw_input was called, but this frontend does not support input requests.\u001b[39m\u001b[33m\"\u001b[39m\n\u001b[32m   1281\u001b[39m     \u001b[38;5;28;01mraise\u001b[39;00m StdinNotImplementedError(msg)\n\u001b[32m-> \u001b[39m\u001b[32m1282\u001b[39m \u001b[38;5;28;01mreturn\u001b[39;00m \u001b[38;5;28;43mself\u001b[39;49m\u001b[43m.\u001b[49m\u001b[43m_input_request\u001b[49m\u001b[43m(\u001b[49m\n\u001b[32m   1283\u001b[39m \u001b[43m    \u001b[49m\u001b[38;5;28;43mstr\u001b[39;49m\u001b[43m(\u001b[49m\u001b[43mprompt\u001b[49m\u001b[43m)\u001b[49m\u001b[43m,\u001b[49m\n\u001b[32m   1284\u001b[39m \u001b[43m    \u001b[49m\u001b[38;5;28;43mself\u001b[39;49m\u001b[43m.\u001b[49m\u001b[43m_parent_ident\u001b[49m\u001b[43m[\u001b[49m\u001b[33;43m\"\u001b[39;49m\u001b[33;43mshell\u001b[39;49m\u001b[33;43m\"\u001b[39;49m\u001b[43m]\u001b[49m\u001b[43m,\u001b[49m\n\u001b[32m   1285\u001b[39m \u001b[43m    \u001b[49m\u001b[38;5;28;43mself\u001b[39;49m\u001b[43m.\u001b[49m\u001b[43mget_parent\u001b[49m\u001b[43m(\u001b[49m\u001b[33;43m\"\u001b[39;49m\u001b[33;43mshell\u001b[39;49m\u001b[33;43m\"\u001b[39;49m\u001b[43m)\u001b[49m\u001b[43m,\u001b[49m\n\u001b[32m   1286\u001b[39m \u001b[43m    \u001b[49m\u001b[43mpassword\u001b[49m\u001b[43m=\u001b[49m\u001b[38;5;28;43;01mFalse\u001b[39;49;00m\u001b[43m,\u001b[49m\n\u001b[32m   1287\u001b[39m \u001b[43m\u001b[49m\u001b[43m)\u001b[49m\n",
      "\u001b[36mFile \u001b[39m\u001b[32m/opt/conda/envs/posigen/lib/python3.13/site-packages/ipykernel/kernelbase.py:1325\u001b[39m, in \u001b[36mKernel._input_request\u001b[39m\u001b[34m(self, prompt, ident, parent, password)\u001b[39m\n\u001b[32m   1322\u001b[39m \u001b[38;5;28;01mexcept\u001b[39;00m \u001b[38;5;167;01mKeyboardInterrupt\u001b[39;00m:\n\u001b[32m   1323\u001b[39m     \u001b[38;5;66;03m# re-raise KeyboardInterrupt, to truncate traceback\u001b[39;00m\n\u001b[32m   1324\u001b[39m     msg = \u001b[33m\"\u001b[39m\u001b[33mInterrupted by user\u001b[39m\u001b[33m\"\u001b[39m\n\u001b[32m-> \u001b[39m\u001b[32m1325\u001b[39m     \u001b[38;5;28;01mraise\u001b[39;00m \u001b[38;5;167;01mKeyboardInterrupt\u001b[39;00m(msg) \u001b[38;5;28;01mfrom\u001b[39;00m\u001b[38;5;250m \u001b[39m\u001b[38;5;28;01mNone\u001b[39;00m\n\u001b[32m   1326\u001b[39m \u001b[38;5;28;01mexcept\u001b[39;00m \u001b[38;5;167;01mException\u001b[39;00m:\n\u001b[32m   1327\u001b[39m     \u001b[38;5;28mself\u001b[39m.log.warning(\u001b[33m\"\u001b[39m\u001b[33mInvalid Message:\u001b[39m\u001b[33m\"\u001b[39m, exc_info=\u001b[38;5;28;01mTrue\u001b[39;00m)\n",
      "\u001b[31mKeyboardInterrupt\u001b[39m: Interrupted by user"
     ]
    },
    {
     "name": "stdout",
     "output_type": "stream",
     "text": [
      "\n",
      "🔄 Auto-refreshing data...\n",
      "\n",
      "Total Transcripts: 1598\n",
      "Total Processed Calls: 9170\n",
      "Unprocessed Calls: 33\n",
      "\n",
      "\n",
      "🔄 Auto-refreshing data...\n",
      "\n",
      "Total Transcripts: 1598\n",
      "Total Processed Calls: 9170\n",
      "Unprocessed Calls: 33\n",
      "\n"
     ]
    }
   ],
   "source": [
    "def process_data():\n",
    "    \"\"\"Reads data, computes the difference, and prints results.\"\"\"\n",
    "    df_list_transcripts = pd.read_csv(\"df_list_transcripts.csv\")\n",
    "    df_inter_calls_data = pd.read_csv(\"df_inter_calls_data.csv\")\n",
    "\n",
    "    print(f\"Total Transcripts: {len(df_list_transcripts)}\")\n",
    "    print(f\"Total Processed Calls: {len(df_inter_calls_data)}\")\n",
    "\n",
    "    # Find unprocessed calls\n",
    "    diff2 = df_list_transcripts[~df_list_transcripts.ID.isin(df_inter_calls_data.CONTACT_ID)]\n",
    "    print(f\"Unprocessed Calls: {len(diff2)}\\n\")\n",
    "\n",
    "def auto_refresh(interval=300):\n",
    "    \"\"\"Runs the process every 'interval' seconds.\"\"\"\n",
    "    while True:\n",
    "        print(\"\\n🔄 Auto-refreshing data...\\n\")\n",
    "        process_data()\n",
    "        time.sleep(interval)\n",
    "\n",
    "# Start auto-refreshing in a separate thread\n",
    "refresh_thread = threading.Thread(target=auto_refresh, daemon=True)\n",
    "refresh_thread.start()\n",
    "\n",
    "# Allow manual execution on demand\n",
    "while True:\n",
    "    input(\"\\nPress Enter to refresh manually...\\n\")\n",
    "    process_data()"
   ]
  },
  {
   "cell_type": "code",
   "execution_count": 78,
   "id": "f5066089-cdb9-4bc5-8b6f-9d1c1d4fb16c",
   "metadata": {
    "tags": []
   },
   "outputs": [],
   "source": [
    "def list_new_transcripts_from_folderlist(\n",
    "    aws_access_key,\n",
    "    aws_secret_key,\n",
    "    source_bucket,\n",
    "    custom_location,\n",
    "    folderlist\n",
    "):\n",
    "    \"\"\"\n",
    "    Fetch audio file metadata from S3 folders using pagination.\n",
    "    \"\"\"\n",
    "\n",
    "    s3_client = boto3.client(\n",
    "        's3',\n",
    "        aws_access_key_id=aws_access_key,\n",
    "        aws_secret_access_key=aws_secret_key\n",
    "    )\n",
    "\n",
    "    # logger.info(\"Fetching New Transcripts to process...\")\n",
    "    all_files = []\n",
    "\n",
    "    # Fetch files from each folder in the list\n",
    "    for folder in folderlist:\n",
    "        try:\n",
    "            paginator = s3_client.get_paginator('list_objects_v2')\n",
    "            pages = paginator.paginate(Bucket=source_bucket, Prefix=folder)\n",
    "\n",
    "            for page in pages:\n",
    "                for obj in page.get('Contents', []):\n",
    "                    file_path = obj['Key']\n",
    "                    s3_ts = obj['LastModified']\n",
    "\n",
    "                    # Skip non-JSON files\n",
    "                    if not file_path.endswith('.json'):\n",
    "                        continue\n",
    "\n",
    "                    call_id = file_path.split('/')[-1].split(\"_analysis_\")[0]\n",
    "                    call_timestamp = pd.to_datetime(file_path.split('analysis_')[-1].split('.')[0].replace('Z', \"\"))\n",
    "\n",
    "                    all_files.append({\n",
    "                        'File': file_path,\n",
    "                        'ID': call_id,\n",
    "                        'File_Timestamp': call_timestamp,\n",
    "                        'File_Date': call_timestamp.date().strftime('%Y-%m-%d'),\n",
    "                        'File_Time': call_timestamp.time().strftime('%H:%M:%S'),\n",
    "                        'S3_Timestamp': s3_ts,\n",
    "                        'S3_Date': s3_ts.strftime('%Y-%m-%d'),\n",
    "                        'S3_Time': s3_ts.strftime('%H:%M:%S')\n",
    "                    })\n",
    "\n",
    "        except ClientError as e:\n",
    "            # logger.error(f\"Error accessing S3: {e}\")\n",
    "            continue\n",
    "\n",
    "    if all_files:\n",
    "        df_calls_list = pd.DataFrame(all_files).sort_values(['File_Timestamp'], ascending=False)\n",
    "        df_calls_list['Time_Bin'] = df_calls_list['File_Timestamp'].dt.floor('2h')\n",
    "    else:\n",
    "        df_calls_list = pd.DataFrame()\n",
    "\n",
    "    return df_calls_list"
   ]
  },
  {
   "cell_type": "code",
   "execution_count": 79,
   "id": "dc544550-9ab8-4dbc-8ee6-8241fe788271",
   "metadata": {
    "tags": []
   },
   "outputs": [
    {
     "data": {
      "text/plain": [
       "['Analysis/Voice/2025/03/05/',\n",
       " 'Analysis/Voice/2025/03/04/',\n",
       " 'Analysis/Voice/2025/03/03/',\n",
       " 'Analysis/Voice/2025/03/02/',\n",
       " 'Analysis/Voice/2025/03/01/',\n",
       " 'Analysis/Voice/2025/02/28/',\n",
       " 'Analysis/Voice/2025/02/27/']"
      ]
     },
     "execution_count": 79,
     "metadata": {},
     "output_type": "execute_result"
    }
   ],
   "source": [
    "# Get current date\n",
    "current_date = datetime.now()\n",
    "\n",
    "# Get dates for last 2 days\n",
    "num_days = 8\n",
    "dates_to_check = []\n",
    "for i in range(num_days):\n",
    "    check_date = current_date - timedelta(days=i)\n",
    "    dates_to_check.append(check_date)\n",
    "\n",
    "# Process each date\n",
    "folderlist = []\n",
    "for date in dates_to_check:\n",
    "    year = str(date.year)\n",
    "    month = f\"{date.month:02d}\"\n",
    "    day = f\"{date.day:02d}\"\n",
    "    \n",
    "    # Construct the prefix for S3 listing\n",
    "    prefix = f\"{s3_transcripts_location}/{year}/{month}/{day}/\"\n",
    "    folderlist.append(prefix)\n",
    "folderlist[1:]"
   ]
  },
  {
   "cell_type": "code",
   "execution_count": 84,
   "id": "215c4cb0-a7e4-4e81-b6b1-47671a420f93",
   "metadata": {
    "tags": []
   },
   "outputs": [
    {
     "name": "stdout",
     "output_type": "stream",
     "text": [
      "Transcripts to process: 9381\n",
      "    File_Date  frequency\n",
      "0  2025-02-27       2312\n",
      "1  2025-02-28       2011\n",
      "2  2025-03-01         65\n",
      "3  2025-03-03       1950\n",
      "4  2025-03-04       1445\n",
      "5  2025-03-05       1598\n"
     ]
    }
   ],
   "source": [
    "df_list_transcripts = list_new_transcripts_from_folderlist(aws_access_key, aws_secret_key, s3_source_bucket, s3_transcripts_location, folderlist[1:])\n",
    "\n",
    "# logger.info(\"\")\n",
    "print(f\"Transcripts to process: {len(df_list_transcripts)}\")\n",
    "print(df_list_transcripts.groupby(['File_Date']).size().reset_index(name='frequency'))"
   ]
  },
  {
   "cell_type": "code",
   "execution_count": null,
   "id": "af4a22be-f9ca-4dc9-8492-3d77364ece11",
   "metadata": {},
   "outputs": [],
   "source": []
  }
 ],
 "metadata": {
  "environment": {
   "kernel": "posigen",
   "name": "workbench-notebooks.m127",
   "type": "gcloud",
   "uri": "us-docker.pkg.dev/deeplearning-platform-release/gcr.io/workbench-notebooks:m127"
  },
  "kernelspec": {
   "display_name": "posigen (Local)",
   "language": "python",
   "name": "posigen"
  },
  "language_info": {
   "codemirror_mode": {
    "name": "ipython",
    "version": 3
   },
   "file_extension": ".py",
   "mimetype": "text/x-python",
   "name": "python",
   "nbconvert_exporter": "python",
   "pygments_lexer": "ipython3",
   "version": "3.13.2"
  }
 },
 "nbformat": 4,
 "nbformat_minor": 5
}
