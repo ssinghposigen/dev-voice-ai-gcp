{
 "cells": [
  {
   "cell_type": "code",
   "execution_count": 1,
   "id": "bc9b7250-b57f-4167-a4e0-bc874b1080bc",
   "metadata": {
    "tags": []
   },
   "outputs": [],
   "source": [
    "import pandas as pd"
   ]
  },
  {
   "cell_type": "code",
   "execution_count": 22,
   "id": "35577897-83d8-4641-b720-d44d0a71e440",
   "metadata": {
    "tags": []
   },
   "outputs": [],
   "source": [
    "# temp2_df_inter_calls_data = pd.read_csv(\"2_df_inter_calls_data.csv\")\n",
    "# temp2_df_intra_calls_data = pd.read_csv(\"2_df_intra_calls_data.csv\")\n",
    "\n",
    "# temp1_df_inter_calls_data = pd.read_csv(\"1_df_inter_calls_data.csv\")\n",
    "# temp1_df_intra_calls_data = pd.read_csv(\"1_df_intra_calls_data.csv\")\n",
    "\n",
    "# df_intra_calls_data = pd.concat([temp1_df_intra_calls_data, temp2_df_intra_calls_data], ignore_index=True)\n",
    "# df_intra_calls_data.to_csv(\"df_intra_calls_data.csv\", index=False)\n",
    "\n",
    "# df_inter_calls_data = pd.concat([temp1_df_inter_calls_data, temp2_df_inter_calls_data], ignore_index=True)\n",
    "# df_inter_calls_data.to_csv(\"df_inter_calls_data.csv\", index=False)"
   ]
  },
  {
   "cell_type": "code",
   "execution_count": 27,
   "id": "01ea92c8-a8ad-4f3d-b2e0-9a52e84cf478",
   "metadata": {},
   "outputs": [
    {
     "data": {
      "text/plain": [
       "(292, 17)"
      ]
     },
     "execution_count": 27,
     "metadata": {},
     "output_type": "execute_result"
    }
   ],
   "source": [
    "temp2_df_inter_calls_data.shape"
   ]
  },
  {
   "cell_type": "code",
   "execution_count": 28,
   "id": "e2fc0390-3264-4e3b-b85f-fd79777771b2",
   "metadata": {
    "tags": []
   },
   "outputs": [
    {
     "data": {
      "text/plain": [
       "(1398, 17)"
      ]
     },
     "execution_count": 28,
     "metadata": {},
     "output_type": "execute_result"
    }
   ],
   "source": [
    "temp1_df_inter_calls_data.shape"
   ]
  },
  {
   "cell_type": "code",
   "execution_count": 29,
   "id": "4e2c9e8c-9d30-4257-a763-fa7eb8131d28",
   "metadata": {
    "tags": []
   },
   "outputs": [
    {
     "data": {
      "text/plain": [
       "(1690, 17)"
      ]
     },
     "execution_count": 29,
     "metadata": {},
     "output_type": "execute_result"
    }
   ],
   "source": [
    "df_inter_calls_data.shape"
   ]
  },
  {
   "cell_type": "code",
   "execution_count": null,
   "id": "bebb8128-adbf-4a67-834a-241d144879f6",
   "metadata": {},
   "outputs": [],
   "source": []
  }
 ],
 "metadata": {
  "environment": {
   "kernel": "posigen",
   "name": "workbench-notebooks.m127",
   "type": "gcloud",
   "uri": "us-docker.pkg.dev/deeplearning-platform-release/gcr.io/workbench-notebooks:m127"
  },
  "kernelspec": {
   "display_name": "posigen (Local)",
   "language": "python",
   "name": "posigen"
  },
  "language_info": {
   "codemirror_mode": {
    "name": "ipython",
    "version": 3
   },
   "file_extension": ".py",
   "mimetype": "text/x-python",
   "name": "python",
   "nbconvert_exporter": "python",
   "pygments_lexer": "ipython3",
   "version": "3.13.2"
  }
 },
 "nbformat": 4,
 "nbformat_minor": 5
}
