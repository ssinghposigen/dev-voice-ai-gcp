{
 "cells": [
  {
   "cell_type": "markdown",
   "id": "1efad0be-cb4c-4322-ade3-b3c2d0123f73",
   "metadata": {},
   "source": [
    "# Import"
   ]
  },
  {
   "cell_type": "code",
   "execution_count": 24,
   "id": "de1a1cb6-9dac-48ca-8022-1a2ab1a6c124",
   "metadata": {
    "tags": []
   },
   "outputs": [],
   "source": [
    "import pandas as pd"
   ]
  },
  {
   "cell_type": "markdown",
   "id": "e67fcc43-2cdf-4847-adc0-91b4f4d13635",
   "metadata": {},
   "source": [
    "# 4/8 - Cat-SubCat Works"
   ]
  },
  {
   "cell_type": "code",
   "execution_count": 33,
   "id": "450c9d32-9908-430c-843a-a520f72a29df",
   "metadata": {
    "tags": []
   },
   "outputs": [
    {
     "data": {
      "text/html": [
       "<div>\n",
       "<style scoped>\n",
       "    .dataframe tbody tr th:only-of-type {\n",
       "        vertical-align: middle;\n",
       "    }\n",
       "\n",
       "    .dataframe tbody tr th {\n",
       "        vertical-align: top;\n",
       "    }\n",
       "\n",
       "    .dataframe thead th {\n",
       "        text-align: right;\n",
       "    }\n",
       "</style>\n",
       "<table border=\"1\" class=\"dataframe\">\n",
       "  <thead>\n",
       "    <tr style=\"text-align: right;\">\n",
       "      <th></th>\n",
       "      <th>CONTACT_ID</th>\n",
       "      <th>CALL_TEXT</th>\n",
       "      <th>CALL_SUMMARY</th>\n",
       "      <th>TOPIC</th>\n",
       "      <th>CATEGORY</th>\n",
       "      <th>SUB_CATEGORY</th>\n",
       "      <th>AGENT_COACHING</th>\n",
       "      <th>AGENT_SPEECH_SPEED</th>\n",
       "      <th>CUSTOMER_SPEECH_SPEED</th>\n",
       "      <th>TOTAL_TALKTIME_AGENT_SECOND</th>\n",
       "      <th>TOTAL_TALKTIME_CUSTOMER_SECOND</th>\n",
       "      <th>TOTAL_TALKTIME_CALL_SECOND</th>\n",
       "      <th>TOTAL_DURATION_CALL_SECOND</th>\n",
       "      <th>TOTAL_DEAD_AIR_CALL_SECOND</th>\n",
       "      <th>CALL_LANGUAGE</th>\n",
       "      <th>CALL_S3_URI</th>\n",
       "      <th>AC_LAST_MODIFIED_DATE</th>\n",
       "    </tr>\n",
       "  </thead>\n",
       "  <tbody>\n",
       "    <tr>\n",
       "      <th>0</th>\n",
       "      <td>a0604caf-9cef-48ca-b815-cdbbc4db1633</td>\n",
       "      <td>Hello, thank you for calling GNL Welding Servi...</td>\n",
       "      <td>The call was directed to voicemail. The voicem...</td>\n",
       "      <td>Voicemail</td>\n",
       "      <td>Unsuccessful Contact</td>\n",
       "      <td>Voicemail</td>\n",
       "      <td>strengths:\\n  - \\n  - \\n  - \\nimprovement_area...</td>\n",
       "      <td>0</td>\n",
       "      <td>156</td>\n",
       "      <td>0</td>\n",
       "      <td>19</td>\n",
       "      <td>19</td>\n",
       "      <td>23</td>\n",
       "      <td>4</td>\n",
       "      <td>en-US</td>\n",
       "      <td>s3://amazon-connect-39f6aa5d9242/connect/posig...</td>\n",
       "      <td>2025-04-07 22:58:48</td>\n",
       "    </tr>\n",
       "    <tr>\n",
       "      <th>1</th>\n",
       "      <td>cf6c558b-b662-41df-9bb7-40e6021600ee</td>\n",
       "      <td>Yeah, Jack. Hello, we are not available now. P...</td>\n",
       "      <td>The call was unanswered due to a full voicemai...</td>\n",
       "      <td>Unanswered Call - Voicemail Full</td>\n",
       "      <td>Unsuccessful Contact</td>\n",
       "      <td>Voicemail</td>\n",
       "      <td>strengths:\\n  - N/A\\n  - N/A\\n  - N/A\\nimprove...</td>\n",
       "      <td>194</td>\n",
       "      <td>132</td>\n",
       "      <td>0</td>\n",
       "      <td>7</td>\n",
       "      <td>7</td>\n",
       "      <td>12</td>\n",
       "      <td>5</td>\n",
       "      <td>en-US</td>\n",
       "      <td>s3://amazon-connect-39f6aa5d9242/connect/posig...</td>\n",
       "      <td>2025-04-07 22:56:01</td>\n",
       "    </tr>\n",
       "    <tr>\n",
       "      <th>2</th>\n",
       "      <td>58b60fd8-3994-44c1-8d01-7682c86495a0</td>\n",
       "      <td>Your call has been forwarded to an automatic v...</td>\n",
       "      <td>The call was answered by an automated voicemai...</td>\n",
       "      <td>Missed Call</td>\n",
       "      <td>Unsuccessful Contact</td>\n",
       "      <td>Voicemail</td>\n",
       "      <td>strengths:\\n  - N/A\\n  - N/A\\n  - N/A\\nimprove...</td>\n",
       "      <td>0</td>\n",
       "      <td>160</td>\n",
       "      <td>0</td>\n",
       "      <td>13</td>\n",
       "      <td>13</td>\n",
       "      <td>14</td>\n",
       "      <td>1</td>\n",
       "      <td>en-US</td>\n",
       "      <td>s3://amazon-connect-39f6aa5d9242/connect/posig...</td>\n",
       "      <td>2025-04-07 22:54:19</td>\n",
       "    </tr>\n",
       "    <tr>\n",
       "      <th>3</th>\n",
       "      <td>e936dacb-7470-4aca-a330-d51efe4bdda7</td>\n",
       "      <td>Hello? Closeo carcase. Hello.</td>\n",
       "      <td>The call was unsuccessful. The agent received ...</td>\n",
       "      <td>Unsuccessful Call Attempt</td>\n",
       "      <td>Unsuccessful Contact</td>\n",
       "      <td>Disconnected / Dropped Call</td>\n",
       "      <td>strengths:\\n  - N/A\\n  - N/A\\n  - N/A\\nimprove...</td>\n",
       "      <td>53</td>\n",
       "      <td>72</td>\n",
       "      <td>2</td>\n",
       "      <td>1</td>\n",
       "      <td>3</td>\n",
       "      <td>5</td>\n",
       "      <td>2</td>\n",
       "      <td>en-US</td>\n",
       "      <td>s3://amazon-connect-39f6aa5d9242/connect/posig...</td>\n",
       "      <td>2025-04-07 22:38:06</td>\n",
       "    </tr>\n",
       "    <tr>\n",
       "      <th>4</th>\n",
       "      <td>c86ad7f6-73e9-40f7-95f6-ddcb22b110c6</td>\n",
       "      <td>Call has been forwarded to an automated voice ...</td>\n",
       "      <td>The call was answered by an automated voicemai...</td>\n",
       "      <td>Missed Call</td>\n",
       "      <td>Unsuccessful Contact</td>\n",
       "      <td>Voicemail</td>\n",
       "      <td>strengths:\\n  - N/A\\n  - N/A\\n  - N/A\\nimprove...</td>\n",
       "      <td>0</td>\n",
       "      <td>113</td>\n",
       "      <td>0</td>\n",
       "      <td>18</td>\n",
       "      <td>18</td>\n",
       "      <td>20</td>\n",
       "      <td>2</td>\n",
       "      <td>en-US</td>\n",
       "      <td>s3://amazon-connect-39f6aa5d9242/connect/posig...</td>\n",
       "      <td>2025-04-07 22:36:25</td>\n",
       "    </tr>\n",
       "  </tbody>\n",
       "</table>\n",
       "</div>"
      ],
      "text/plain": [
       "                             CONTACT_ID  \\\n",
       "0  a0604caf-9cef-48ca-b815-cdbbc4db1633   \n",
       "1  cf6c558b-b662-41df-9bb7-40e6021600ee   \n",
       "2  58b60fd8-3994-44c1-8d01-7682c86495a0   \n",
       "3  e936dacb-7470-4aca-a330-d51efe4bdda7   \n",
       "4  c86ad7f6-73e9-40f7-95f6-ddcb22b110c6   \n",
       "\n",
       "                                           CALL_TEXT  \\\n",
       "0  Hello, thank you for calling GNL Welding Servi...   \n",
       "1  Yeah, Jack. Hello, we are not available now. P...   \n",
       "2  Your call has been forwarded to an automatic v...   \n",
       "3                      Hello? Closeo carcase. Hello.   \n",
       "4  Call has been forwarded to an automated voice ...   \n",
       "\n",
       "                                        CALL_SUMMARY  \\\n",
       "0  The call was directed to voicemail. The voicem...   \n",
       "1  The call was unanswered due to a full voicemai...   \n",
       "2  The call was answered by an automated voicemai...   \n",
       "3  The call was unsuccessful. The agent received ...   \n",
       "4  The call was answered by an automated voicemai...   \n",
       "\n",
       "                              TOPIC              CATEGORY  \\\n",
       "0                         Voicemail  Unsuccessful Contact   \n",
       "1  Unanswered Call - Voicemail Full  Unsuccessful Contact   \n",
       "2                       Missed Call  Unsuccessful Contact   \n",
       "3         Unsuccessful Call Attempt  Unsuccessful Contact   \n",
       "4                       Missed Call  Unsuccessful Contact   \n",
       "\n",
       "                  SUB_CATEGORY  \\\n",
       "0                    Voicemail   \n",
       "1                    Voicemail   \n",
       "2                    Voicemail   \n",
       "3  Disconnected / Dropped Call   \n",
       "4                    Voicemail   \n",
       "\n",
       "                                      AGENT_COACHING  AGENT_SPEECH_SPEED  \\\n",
       "0  strengths:\\n  - \\n  - \\n  - \\nimprovement_area...                   0   \n",
       "1  strengths:\\n  - N/A\\n  - N/A\\n  - N/A\\nimprove...                 194   \n",
       "2  strengths:\\n  - N/A\\n  - N/A\\n  - N/A\\nimprove...                   0   \n",
       "3  strengths:\\n  - N/A\\n  - N/A\\n  - N/A\\nimprove...                  53   \n",
       "4  strengths:\\n  - N/A\\n  - N/A\\n  - N/A\\nimprove...                   0   \n",
       "\n",
       "   CUSTOMER_SPEECH_SPEED  TOTAL_TALKTIME_AGENT_SECOND  \\\n",
       "0                    156                            0   \n",
       "1                    132                            0   \n",
       "2                    160                            0   \n",
       "3                     72                            2   \n",
       "4                    113                            0   \n",
       "\n",
       "   TOTAL_TALKTIME_CUSTOMER_SECOND  TOTAL_TALKTIME_CALL_SECOND  \\\n",
       "0                              19                          19   \n",
       "1                               7                           7   \n",
       "2                              13                          13   \n",
       "3                               1                           3   \n",
       "4                              18                          18   \n",
       "\n",
       "   TOTAL_DURATION_CALL_SECOND  TOTAL_DEAD_AIR_CALL_SECOND CALL_LANGUAGE  \\\n",
       "0                          23                           4         en-US   \n",
       "1                          12                           5         en-US   \n",
       "2                          14                           1         en-US   \n",
       "3                           5                           2         en-US   \n",
       "4                          20                           2         en-US   \n",
       "\n",
       "                                         CALL_S3_URI AC_LAST_MODIFIED_DATE  \n",
       "0  s3://amazon-connect-39f6aa5d9242/connect/posig...   2025-04-07 22:58:48  \n",
       "1  s3://amazon-connect-39f6aa5d9242/connect/posig...   2025-04-07 22:56:01  \n",
       "2  s3://amazon-connect-39f6aa5d9242/connect/posig...   2025-04-07 22:54:19  \n",
       "3  s3://amazon-connect-39f6aa5d9242/connect/posig...   2025-04-07 22:38:06  \n",
       "4  s3://amazon-connect-39f6aa5d9242/connect/posig...   2025-04-07 22:36:25  "
      ]
     },
     "execution_count": 33,
     "metadata": {},
     "output_type": "execute_result"
    }
   ],
   "source": [
    "df_inter_calls = pd.read_csv(\"df_inter_calls_data.csv\")\n",
    "df_inter_calls.head()"
   ]
  },
  {
   "cell_type": "code",
   "execution_count": 34,
   "id": "8a630065-599f-4086-9067-7ad500677410",
   "metadata": {
    "tags": []
   },
   "outputs": [],
   "source": [
    "df_inter_calls[df_inter_calls.CATEGORY.isin(['Unsuccessful Contact', 'Voicemail'])][:100].sort_values(by=\"CATEGORY\", ascending=True)[['CONTACT_ID', 'CALL_TEXT', 'CALL_SUMMARY', 'TOPIC', 'CATEGORY', 'SUB_CATEGORY']].to_excel(\"Unsuccessful-Calls-QA.xlsx\")"
   ]
  },
  {
   "cell_type": "code",
   "execution_count": 35,
   "id": "c6032509-0d91-46d0-b4de-01d88c138ea3",
   "metadata": {},
   "outputs": [
    {
     "data": {
      "text/plain": [
       "73    A call has been forwarded to an automated voic...\n",
       "Name: CALL_TEXT, dtype: object"
      ]
     },
     "execution_count": 35,
     "metadata": {},
     "output_type": "execute_result"
    }
   ],
   "source": [
    "df_inter_calls[df_inter_calls.CONTACT_ID=='f488d0d9-e029-49a2-af90-ce3f32811c9e'].CALL_TEXT"
   ]
  },
  {
   "cell_type": "code",
   "execution_count": 36,
   "id": "cd56063c-7c09-42b5-968b-53753263c634",
   "metadata": {
    "tags": []
   },
   "outputs": [
    {
     "name": "stdout",
     "output_type": "stream",
     "text": [
      "f488d0d9-e029-49a2-af90-ce3f32811c9e\n"
     ]
    },
    {
     "data": {
      "text/plain": [
       "'A call has been forwarded to an automated voice messaging system. ***-***-**** is not available.'"
      ]
     },
     "execution_count": 36,
     "metadata": {},
     "output_type": "execute_result"
    }
   ],
   "source": [
    "print(df_inter_calls.iloc[73].CONTACT_ID)\n",
    "df_inter_calls.iloc[73].CALL_TEXT"
   ]
  },
  {
   "cell_type": "code",
   "execution_count": null,
   "id": "0e9c39a3-a537-4e34-a002-12e011bdc64f",
   "metadata": {},
   "outputs": [],
   "source": []
  }
 ],
 "metadata": {
  "environment": {
   "kernel": "posigen",
   "name": "workbench-notebooks.m127",
   "type": "gcloud",
   "uri": "us-docker.pkg.dev/deeplearning-platform-release/gcr.io/workbench-notebooks:m127"
  },
  "kernelspec": {
   "display_name": "posigen (Local)",
   "language": "python",
   "name": "posigen"
  },
  "language_info": {
   "codemirror_mode": {
    "name": "ipython",
    "version": 3
   },
   "file_extension": ".py",
   "mimetype": "text/x-python",
   "name": "python",
   "nbconvert_exporter": "python",
   "pygments_lexer": "ipython3",
   "version": "3.13.2"
  }
 },
 "nbformat": 4,
 "nbformat_minor": 5
}
