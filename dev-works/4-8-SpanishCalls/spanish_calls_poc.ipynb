{
 "cells": [
  {
   "cell_type": "markdown",
   "id": "d09e504d-e687-44c8-83c7-d0ceeaba204c",
   "metadata": {
    "tags": []
   },
   "source": [
    "# Imports"
   ]
  },
  {
   "cell_type": "code",
   "execution_count": 122,
   "id": "0e32a6c3-12c2-4bd2-ae42-37cf09cded90",
   "metadata": {
    "tags": []
   },
   "outputs": [],
   "source": [
    "import json, re, os, wave, contextlib\n",
    "import pandas as pd\n",
    "\n",
    "import vertexai\n",
    "from vertexai import generative_models, init\n",
    "from vertexai.generative_models import GenerativeModel, GenerationConfig, Part"
   ]
  },
  {
   "cell_type": "code",
   "execution_count": 123,
   "id": "57d14a9f-05c9-4c0c-828c-591128b89cd9",
   "metadata": {
    "tags": []
   },
   "outputs": [],
   "source": [
    "# Temporary secrets manager\n",
    "with open(\"../../../sun/secrets/configs.json\", 'r') as secrets_file:\n",
    "    configs = json.load(secrets_file)\n",
    "    \n",
    "project_id = configs.get('gcp_project_id')\n",
    "location = configs.get('gcp_prjct_location')\n",
    "\n",
    "vertexai.init(project=project_id, location=location)"
   ]
  },
  {
   "cell_type": "markdown",
   "id": "9fcc555c-b116-4e00-b357-fdba9a2d7311",
   "metadata": {
    "tags": []
   },
   "source": [
    "# Tranlate: Gemini 1.5 Pro"
   ]
  },
  {
   "cell_type": "code",
   "execution_count": 124,
   "id": "bda09e56-d3ce-4497-810e-8cdcc9f82bff",
   "metadata": {
    "tags": []
   },
   "outputs": [],
   "source": [
    "# Initialize model\n",
    "model = generative_models.GenerativeModel(\"gemini-1.5-flash-002\")\n",
    "# model = GenerativeModel(\"gemini-1.5-pro\")\n",
    "\n",
    "generation_config = {\n",
    "    \"temperature\": 0.2,\n",
    "    \"max_output_tokens\": 2048,\n",
    "    \"top_p\": 1.0,\n",
    "    \"top_k\": 40\n",
    "}"
   ]
  },
  {
   "cell_type": "markdown",
   "id": "d8062faf-d68b-4107-a015-54a962a53f5f",
   "metadata": {
    "tags": []
   },
   "source": [
    "# Transcipt: Translate"
   ]
  },
  {
   "cell_type": "markdown",
   "id": "4ac329fa-687c-4740-9124-c399d0a718d2",
   "metadata": {
    "tags": []
   },
   "source": [
    "### Agent: Language Detection"
   ]
  },
  {
   "cell_type": "code",
   "execution_count": 125,
   "id": "7abaf8ca-9454-4086-9b3f-9021ca2b8e19",
   "metadata": {
    "tags": []
   },
   "outputs": [],
   "source": [
    "def detect_caption_language(caption_dict: dict[str, str]) -> str:\n",
    "    prompt = f\"\"\"\n",
    "    You are a language detection agent.\n",
    "\n",
    "    Given the JSON dictionary of captions (from a call), detect the language:\n",
    "    - If all captions are English, respond with: \"all_english\"\n",
    "    - If all are Spanish, respond with: \"all_spanish\"\n",
    "    - If it's a mix, respond with: \"partial_spanish\"\n",
    "\n",
    "    Captions JSON: {json.dumps(caption_dict, ensure_ascii=False)}\n",
    "    \"\"\"\n",
    "\n",
    "    response = model.generate_content(prompt, generation_config=generation_config)\n",
    "    detected = response.text.strip().lower()\n",
    "\n",
    "    # Normalize\n",
    "    if \"all_english\" in detected:\n",
    "        return \"all_english\"\n",
    "    elif \"all_spanish\" in detected:\n",
    "        return \"all_spanish\"\n",
    "    elif \"partial_spanish\" in detected:\n",
    "        return \"partial_spanish\"\n",
    "    else:\n",
    "        return \"unknown\""
   ]
  },
  {
   "cell_type": "markdown",
   "id": "98e7c251-153a-4f0c-9348-e8b1cdc86764",
   "metadata": {
    "tags": []
   },
   "source": [
    "### Agent: Translation"
   ]
  },
  {
   "cell_type": "code",
   "execution_count": 126,
   "id": "47973aa9-ea4e-43a5-aae8-856c441d3b40",
   "metadata": {
    "tags": []
   },
   "outputs": [],
   "source": [
    "def translate_caption_dict(caption_dict: dict[str, str], target_language=\"English\") -> dict:\n",
    "    prompt = f\"\"\"\n",
    "    You are a highly accurate AI translator specialized in correcting faulty or mis-transcribed Spanish text.\n",
    "\n",
    "    Translate the following **badly transcribed Spanish captions** into **fluent, grammatically correct English**.\n",
    "\n",
    "    Some words or phrases may be:\n",
    "    - Misspelled\n",
    "    - Incomplete\n",
    "    - Mixed with background noise artifacts\n",
    "\n",
    "    Your job:\n",
    "    - **Interpret what the speaker most likely intended to say in Spanish**\n",
    "    - Use your best logical judgment to \"guess and correct\" transcription errors\n",
    "    - Translate only the **intended meaning** into **natural English**\n",
    "\n",
    "    --- INPUT FORMAT ---\n",
    "    A JSON dictionary:\n",
    "    {{\n",
    "      \"0\": \"transcribed Spanish caption\",\n",
    "      \"1\": \"transcribed Spanish caption\",\n",
    "      ...\n",
    "    }}\n",
    "\n",
    "    --- OUTPUT FORMAT ---\n",
    "    Return only a clean JSON dictionary with **English translations**, same structure:\n",
    "    {{\n",
    "      \"0\": \"Fluent English translation\",\n",
    "      \"1\": \"Fluent English translation\",\n",
    "      ...\n",
    "    }}\n",
    "\n",
    "    --- RULES ---\n",
    "    1. Translate each caption individually and intelligently\n",
    "    2. Output must be in **English only**\n",
    "    3. No Spanish words should remain\n",
    "    4. Do not include any comments, explanations, or markdown\n",
    "    5. Keep the structure: {{\"index\": \"translated caption\", ...}} — exactly as shown\n",
    "    6. Always return valid JSON\n",
    "\n",
    "    --- INPUT CAPTIONS ---\n",
    "    {json.dumps(caption_dict, ensure_ascii=False)}\n",
    "    \"\"\"\n",
    "\n",
    "\n",
    "    response = model.generate_content(prompt, generation_config=generation_config)\n",
    "\n",
    "    try:\n",
    "        match = re.search(r'```json\\s*([\\s\\S]*?)\\s*```', response.text)\n",
    "        if match:\n",
    "            json_str = match.group(1)\n",
    "        else:\n",
    "            json_str = response.strip()\n",
    "\n",
    "        return json.loads(json_str)\n",
    "    except Exception as e:\n",
    "        print(\"Translation JSON parse error:\", e)\n",
    "        return {}"
   ]
  },
  {
   "cell_type": "markdown",
   "id": "e66c0a71-3edc-40e6-aca4-392307dba221",
   "metadata": {
    "tags": []
   },
   "source": [
    "### Extract JSON"
   ]
  },
  {
   "cell_type": "code",
   "execution_count": 127,
   "id": "599f2aed-4580-41da-88aa-96ea61e14a5c",
   "metadata": {
    "tags": []
   },
   "outputs": [],
   "source": [
    "def extract_json(response):\n",
    "    \"\"\"Extract valid JSON from response\"\"\"\n",
    "    try:\n",
    "        match = re.search(r'```json\\s*([\\s\\S]*?)\\s*```', response)\n",
    "        if match:\n",
    "            json_str = match.group(1)\n",
    "        else:\n",
    "            json_str = response.strip()\n",
    "        return json.loads(json_str)\n",
    "\n",
    "    except Exception as e:\n",
    "        raise RuntimeError(f\"extract_json() failed: {str(e)}\")"
   ]
  },
  {
   "cell_type": "code",
   "execution_count": 128,
   "id": "3a7db72e-59b4-4edf-88b5-15ad8540d655",
   "metadata": {
    "tags": []
   },
   "outputs": [],
   "source": [
    "def process_call_transcript(df_call, caption_col=\"CAPTION\"):\n",
    "    caption_dict = {str(i): v for i, v in df_call[caption_col].items()}\n",
    "\n",
    "    lang_status = detect_caption_language(caption_dict)\n",
    "    print(f\"[Language] Status: {lang_status}\")\n",
    "\n",
    "    if lang_status == \"all_english\":\n",
    "        df_call[\"CAPTION_EN\"] = df_call[caption_col]\n",
    "        return df_call\n",
    "\n",
    "    elif lang_status in [\"all_spanish\", \"partial_spanish\"]:\n",
    "        translated_dict = translate_caption_dict(caption_dict)\n",
    "        df_call[\"CAPTION_EN\"] = df_call.index.astype(str).map(translated_dict)\n",
    "        return df_call\n",
    "\n",
    "    else:\n",
    "        df_call[\"CAPTION_EN\"] = None\n",
    "        return df_call"
   ]
  },
  {
   "cell_type": "markdown",
   "id": "49303287-6f74-431f-813d-783478ba6a26",
   "metadata": {
    "tags": []
   },
   "source": [
    "## Main"
   ]
  },
  {
   "cell_type": "code",
   "execution_count": 157,
   "id": "695524a8-c750-4b38-b48b-a82430cff79d",
   "metadata": {
    "tags": []
   },
   "outputs": [],
   "source": [
    "df_transcript = pd.DataFrame()"
   ]
  },
  {
   "cell_type": "code",
   "execution_count": 158,
   "id": "e07ed76e-f922-4c5d-8d22-65ad59e2843d",
   "metadata": {
    "tags": []
   },
   "outputs": [
    {
     "name": "stdout",
     "output_type": "stream",
     "text": [
      "208\n",
      "\n",
      "                             CONTACT_ID  count\n",
      "0  20b2738a-12f7-40aa-b0dd-e6f6c39fe931     37\n",
      "1  9944cf65-823e-4c24-83bc-789a33b9d599      9\n",
      "2  c937dfd1-4d37-4e8f-a7fa-6684f8ebfce8     26\n",
      "3  ce245ccd-afa1-4e07-8848-4291f4c2b50b      3\n",
      "4  df3baa03-7ead-4268-864d-4ffd639df1ed    133\n",
      "\n"
     ]
    },
    {
     "data": {
      "text/html": [
       "<div>\n",
       "<style scoped>\n",
       "    .dataframe tbody tr th:only-of-type {\n",
       "        vertical-align: middle;\n",
       "    }\n",
       "\n",
       "    .dataframe tbody tr th {\n",
       "        vertical-align: top;\n",
       "    }\n",
       "\n",
       "    .dataframe thead th {\n",
       "        text-align: right;\n",
       "    }\n",
       "</style>\n",
       "<table border=\"1\" class=\"dataframe\">\n",
       "  <thead>\n",
       "    <tr style=\"text-align: right;\">\n",
       "      <th></th>\n",
       "      <th>CONTACT_ID</th>\n",
       "      <th>SPEAKER_TAG</th>\n",
       "      <th>CAPTION</th>\n",
       "    </tr>\n",
       "  </thead>\n",
       "  <tbody>\n",
       "    <tr>\n",
       "      <th>0</th>\n",
       "      <td>df3baa03-7ead-4268-864d-4ffd639df1ed</td>\n",
       "      <td>AGENT</td>\n",
       "      <td>When I started for passage.</td>\n",
       "    </tr>\n",
       "    <tr>\n",
       "      <th>1</th>\n",
       "      <td>df3baa03-7ead-4268-864d-4ffd639df1ed</td>\n",
       "      <td>CUSTOMER</td>\n",
       "      <td>blando porque no mega bill de los panel solare...</td>\n",
       "    </tr>\n",
       "  </tbody>\n",
       "</table>\n",
       "</div>"
      ],
      "text/plain": [
       "                             CONTACT_ID SPEAKER_TAG  \\\n",
       "0  df3baa03-7ead-4268-864d-4ffd639df1ed       AGENT   \n",
       "1  df3baa03-7ead-4268-864d-4ffd639df1ed    CUSTOMER   \n",
       "\n",
       "                                             CAPTION  \n",
       "0                        When I started for passage.  \n",
       "1  blando porque no mega bill de los panel solare...  "
      ]
     },
     "execution_count": 158,
     "metadata": {},
     "output_type": "execute_result"
    }
   ],
   "source": [
    "df = pd.read_csv(\"es_df_intra_calls.csv\")\n",
    "df = df[['CONTACT_ID','SPEAKER_TAG','CAPTION']]\n",
    "print(len(df))\n",
    "print()\n",
    "print(df.groupby('CONTACT_ID').size().reset_index(name='count'))\n",
    "print()\n",
    "df.head(2)"
   ]
  },
  {
   "cell_type": "code",
   "execution_count": 159,
   "id": "08204a77-fdec-4d7f-a7ef-b4e91a991f2b",
   "metadata": {
    "tags": []
   },
   "outputs": [
    {
     "data": {
      "text/plain": [
       "'df3baa03-7ead-4268-864d-4ffd639df1ed'"
      ]
     },
     "execution_count": 159,
     "metadata": {},
     "output_type": "execute_result"
    }
   ],
   "source": [
    "df.CONTACT_ID.unique().tolist()[0]"
   ]
  },
  {
   "cell_type": "code",
   "execution_count": 164,
   "id": "92b45e2a-ddaf-4e1c-a3db-44a893b14e8e",
   "metadata": {
    "tags": []
   },
   "outputs": [
    {
     "name": "stdout",
     "output_type": "stream",
     "text": [
      "[Language] Status: partial_spanish\n"
     ]
    },
    {
     "name": "stderr",
     "output_type": "stream",
     "text": [
      "/var/tmp/ipykernel_18034/599383991.py:13: SettingWithCopyWarning: \n",
      "A value is trying to be set on a copy of a slice from a DataFrame.\n",
      "Try using .loc[row_indexer,col_indexer] = value instead\n",
      "\n",
      "See the caveats in the documentation: https://pandas.pydata.org/pandas-docs/stable/user_guide/indexing.html#returning-a-view-versus-a-copy\n",
      "  df_call[\"CAPTION_EN\"] = df_call.index.astype(str).map(translated_dict)\n"
     ]
    },
    {
     "name": "stdout",
     "output_type": "stream",
     "text": [
      "[Language] Status: partial_spanish\n"
     ]
    },
    {
     "name": "stderr",
     "output_type": "stream",
     "text": [
      "/var/tmp/ipykernel_18034/599383991.py:13: SettingWithCopyWarning: \n",
      "A value is trying to be set on a copy of a slice from a DataFrame.\n",
      "Try using .loc[row_indexer,col_indexer] = value instead\n",
      "\n",
      "See the caveats in the documentation: https://pandas.pydata.org/pandas-docs/stable/user_guide/indexing.html#returning-a-view-versus-a-copy\n",
      "  df_call[\"CAPTION_EN\"] = df_call.index.astype(str).map(translated_dict)\n"
     ]
    },
    {
     "name": "stdout",
     "output_type": "stream",
     "text": [
      "[Language] Status: partial_spanish\n"
     ]
    },
    {
     "name": "stderr",
     "output_type": "stream",
     "text": [
      "/var/tmp/ipykernel_18034/599383991.py:13: SettingWithCopyWarning: \n",
      "A value is trying to be set on a copy of a slice from a DataFrame.\n",
      "Try using .loc[row_indexer,col_indexer] = value instead\n",
      "\n",
      "See the caveats in the documentation: https://pandas.pydata.org/pandas-docs/stable/user_guide/indexing.html#returning-a-view-versus-a-copy\n",
      "  df_call[\"CAPTION_EN\"] = df_call.index.astype(str).map(translated_dict)\n"
     ]
    },
    {
     "name": "stdout",
     "output_type": "stream",
     "text": [
      "[Language] Status: partial_spanish\n"
     ]
    },
    {
     "name": "stderr",
     "output_type": "stream",
     "text": [
      "/var/tmp/ipykernel_18034/599383991.py:13: SettingWithCopyWarning: \n",
      "A value is trying to be set on a copy of a slice from a DataFrame.\n",
      "Try using .loc[row_indexer,col_indexer] = value instead\n",
      "\n",
      "See the caveats in the documentation: https://pandas.pydata.org/pandas-docs/stable/user_guide/indexing.html#returning-a-view-versus-a-copy\n",
      "  df_call[\"CAPTION_EN\"] = df_call.index.astype(str).map(translated_dict)\n"
     ]
    },
    {
     "name": "stdout",
     "output_type": "stream",
     "text": [
      "[Language] Status: partial_spanish\n"
     ]
    },
    {
     "name": "stderr",
     "output_type": "stream",
     "text": [
      "/var/tmp/ipykernel_18034/599383991.py:13: SettingWithCopyWarning: \n",
      "A value is trying to be set on a copy of a slice from a DataFrame.\n",
      "Try using .loc[row_indexer,col_indexer] = value instead\n",
      "\n",
      "See the caveats in the documentation: https://pandas.pydata.org/pandas-docs/stable/user_guide/indexing.html#returning-a-view-versus-a-copy\n",
      "  df_call[\"CAPTION_EN\"] = df_call.index.astype(str).map(translated_dict)\n"
     ]
    }
   ],
   "source": [
    "for contact_id in df.CONTACT_ID.unique().tolist():\n",
    "    df_call = df[df.CONTACT_ID==contact_id]\n",
    "    df_translated = process_call_transcript(df_call)\n",
    "\n",
    "    # # Get the index mask where CONTACT_ID matches\n",
    "    # mask = (df_transcript[\"CONTACT_ID\"] == contact_id)\n",
    "    # # Assign translated values\n",
    "    # df_transcript.loc[mask, \"CAPTION_EN\"] = df_translated[\"CAPTION_EN\"].values\n",
    "    \n",
    "    df_translated.columns = df_translated.columns.str.upper()\n",
    "\n",
    "    df_transcript = pd.concat([df_transcript, df_translated], ignore_index=True)"
   ]
  },
  {
   "cell_type": "code",
   "execution_count": 171,
   "id": "f42af726-3bd0-4024-8bbc-00c6a299e772",
   "metadata": {
    "tags": []
   },
   "outputs": [
    {
     "name": "stdout",
     "output_type": "stream",
     "text": [
      "['df3baa03-7ead-4268-864d-4ffd639df1ed'\n",
      " '9944cf65-823e-4c24-83bc-789a33b9d599'\n",
      " 'c937dfd1-4d37-4e8f-a7fa-6684f8ebfce8'\n",
      " 'ce245ccd-afa1-4e07-8848-4291f4c2b50b'\n",
      " '20b2738a-12f7-40aa-b0dd-e6f6c39fe931']\n"
     ]
    },
    {
     "data": {
      "text/html": [
       "<div>\n",
       "<style scoped>\n",
       "    .dataframe tbody tr th:only-of-type {\n",
       "        vertical-align: middle;\n",
       "    }\n",
       "\n",
       "    .dataframe tbody tr th {\n",
       "        vertical-align: top;\n",
       "    }\n",
       "\n",
       "    .dataframe thead th {\n",
       "        text-align: right;\n",
       "    }\n",
       "</style>\n",
       "<table border=\"1\" class=\"dataframe\">\n",
       "  <thead>\n",
       "    <tr style=\"text-align: right;\">\n",
       "      <th></th>\n",
       "      <th>CONTACT_ID</th>\n",
       "      <th>SPEAKER_TAG</th>\n",
       "      <th>CAPTION</th>\n",
       "      <th>CAPTION_EN</th>\n",
       "    </tr>\n",
       "  </thead>\n",
       "  <tbody>\n",
       "    <tr>\n",
       "      <th>0</th>\n",
       "      <td>df3baa03-7ead-4268-864d-4ffd639df1ed</td>\n",
       "      <td>AGENT</td>\n",
       "      <td>When I started for passage.</td>\n",
       "      <td>When I started the process.</td>\n",
       "    </tr>\n",
       "    <tr>\n",
       "      <th>1</th>\n",
       "      <td>df3baa03-7ead-4268-864d-4ffd639df1ed</td>\n",
       "      <td>CUSTOMER</td>\n",
       "      <td>blando porque no mega bill de los panel solare...</td>\n",
       "      <td>Softly because I didn't get the mega bill for ...</td>\n",
       "    </tr>\n",
       "    <tr>\n",
       "      <th>2</th>\n",
       "      <td>df3baa03-7ead-4268-864d-4ffd639df1ed</td>\n",
       "      <td>AGENT</td>\n",
       "      <td>Gula el nombrelaimfor.</td>\n",
       "      <td>Gula is the name of the information.</td>\n",
       "    </tr>\n",
       "    <tr>\n",
       "      <th>3</th>\n",
       "      <td>df3baa03-7ead-4268-864d-4ffd639df1ed</td>\n",
       "      <td>CUSTOMER</td>\n",
       "      <td>The Adolfo Gomez in Maria Sandovalla direction...</td>\n",
       "      <td>The address is Adolfo Gomez and Maria Sandoval...</td>\n",
       "    </tr>\n",
       "    <tr>\n",
       "      <th>4</th>\n",
       "      <td>df3baa03-7ead-4268-864d-4ffd639df1ed</td>\n",
       "      <td>AGENT</td>\n",
       "      <td>OK, let's confirmation.</td>\n",
       "      <td>OK, let's confirm.</td>\n",
       "    </tr>\n",
       "    <tr>\n",
       "      <th>...</th>\n",
       "      <td>...</td>\n",
       "      <td>...</td>\n",
       "      <td>...</td>\n",
       "      <td>...</td>\n",
       "    </tr>\n",
       "    <tr>\n",
       "      <th>469</th>\n",
       "      <td>20b2738a-12f7-40aa-b0dd-e6f6c39fe931</td>\n",
       "      <td>AGENT</td>\n",
       "      <td>Mhm.</td>\n",
       "      <td>Mhm.</td>\n",
       "    </tr>\n",
       "    <tr>\n",
       "      <th>470</th>\n",
       "      <td>20b2738a-12f7-40aa-b0dd-e6f6c39fe931</td>\n",
       "      <td>CUSTOMER</td>\n",
       "      <td>Well.</td>\n",
       "      <td>Well.</td>\n",
       "    </tr>\n",
       "    <tr>\n",
       "      <th>471</th>\n",
       "      <td>20b2738a-12f7-40aa-b0dd-e6f6c39fe931</td>\n",
       "      <td>AGENT</td>\n",
       "      <td>Mhm. Is there one there.</td>\n",
       "      <td>Mhm. Is there one there?</td>\n",
       "    </tr>\n",
       "    <tr>\n",
       "      <th>472</th>\n",
       "      <td>20b2738a-12f7-40aa-b0dd-e6f6c39fe931</td>\n",
       "      <td>CUSTOMER</td>\n",
       "      <td>Go it. We ain't getting away what I say that.</td>\n",
       "      <td>Got it. We're not getting away with what I said.</td>\n",
       "    </tr>\n",
       "    <tr>\n",
       "      <th>473</th>\n",
       "      <td>20b2738a-12f7-40aa-b0dd-e6f6c39fe931</td>\n",
       "      <td>AGENT</td>\n",
       "      <td>Mhm.</td>\n",
       "      <td>Mhm.</td>\n",
       "    </tr>\n",
       "  </tbody>\n",
       "</table>\n",
       "<p>474 rows × 4 columns</p>\n",
       "</div>"
      ],
      "text/plain": [
       "                               CONTACT_ID SPEAKER_TAG  \\\n",
       "0    df3baa03-7ead-4268-864d-4ffd639df1ed       AGENT   \n",
       "1    df3baa03-7ead-4268-864d-4ffd639df1ed    CUSTOMER   \n",
       "2    df3baa03-7ead-4268-864d-4ffd639df1ed       AGENT   \n",
       "3    df3baa03-7ead-4268-864d-4ffd639df1ed    CUSTOMER   \n",
       "4    df3baa03-7ead-4268-864d-4ffd639df1ed       AGENT   \n",
       "..                                    ...         ...   \n",
       "469  20b2738a-12f7-40aa-b0dd-e6f6c39fe931       AGENT   \n",
       "470  20b2738a-12f7-40aa-b0dd-e6f6c39fe931    CUSTOMER   \n",
       "471  20b2738a-12f7-40aa-b0dd-e6f6c39fe931       AGENT   \n",
       "472  20b2738a-12f7-40aa-b0dd-e6f6c39fe931    CUSTOMER   \n",
       "473  20b2738a-12f7-40aa-b0dd-e6f6c39fe931       AGENT   \n",
       "\n",
       "                                               CAPTION  \\\n",
       "0                          When I started for passage.   \n",
       "1    blando porque no mega bill de los panel solare...   \n",
       "2                               Gula el nombrelaimfor.   \n",
       "3    The Adolfo Gomez in Maria Sandovalla direction...   \n",
       "4                              OK, let's confirmation.   \n",
       "..                                                 ...   \n",
       "469                                               Mhm.   \n",
       "470                                              Well.   \n",
       "471                           Mhm. Is there one there.   \n",
       "472      Go it. We ain't getting away what I say that.   \n",
       "473                                               Mhm.   \n",
       "\n",
       "                                            CAPTION_EN  \n",
       "0                          When I started the process.  \n",
       "1    Softly because I didn't get the mega bill for ...  \n",
       "2                 Gula is the name of the information.  \n",
       "3    The address is Adolfo Gomez and Maria Sandoval...  \n",
       "4                                   OK, let's confirm.  \n",
       "..                                                 ...  \n",
       "469                                               Mhm.  \n",
       "470                                              Well.  \n",
       "471                           Mhm. Is there one there?  \n",
       "472   Got it. We're not getting away with what I said.  \n",
       "473                                               Mhm.  \n",
       "\n",
       "[474 rows x 4 columns]"
      ]
     },
     "execution_count": 171,
     "metadata": {},
     "output_type": "execute_result"
    }
   ],
   "source": [
    "print(df_transcript.CONTACT_ID.unique())\n",
    "df_transcript"
   ]
  },
  {
   "cell_type": "code",
   "execution_count": 172,
   "id": "40de3114-adc9-4006-9fcb-0dc3729eb4d3",
   "metadata": {
    "tags": []
   },
   "outputs": [],
   "source": [
    "# Write to Excel file with a named sheet\n",
    "# with pd.ExcelWriter(\"SpanishCalls-POC.xlsx\", engine=\"xlsxwriter\") as writer:\n",
    "#     df_transcript.to_excel(writer, sheet_name=\"UsingTranscript\", index=False)\n",
    "\n",
    "with pd.ExcelWriter(\"SpanishCalls-POC.xlsx\", engine=\"openpyxl\", mode=\"a\", if_sheet_exists=\"new\") as writer:\n",
    "    df_transcript.to_excel(writer, sheet_name=\"FromTranscript\", index=False)"
   ]
  },
  {
   "cell_type": "markdown",
   "id": "f883cc90-2b7d-48f1-8e08-90c810c6d1c9",
   "metadata": {
    "jp-MarkdownHeadingCollapsed": true,
    "tags": []
   },
   "source": [
    "# Audio Files: Transcribe and Translate"
   ]
  },
  {
   "cell_type": "code",
   "execution_count": 25,
   "id": "cfef662f-8fab-4a16-9649-4b542d3f75b0",
   "metadata": {
    "tags": []
   },
   "outputs": [],
   "source": [
    "import json, os\n",
    "import io\n",
    "from pydub import AudioSegment\n",
    "from vertexai.generative_models import GenerativeModel, Part\n",
    "from vertexai import init"
   ]
  },
  {
   "cell_type": "code",
   "execution_count": 5,
   "id": "917b5ce7-6adc-4685-8a2e-5c0b01c5ad7d",
   "metadata": {
    "tags": []
   },
   "outputs": [],
   "source": [
    "def get_all_wav_files(folder_path: str) -> list[str]:\n",
    "    wav_files = []\n",
    "    for file in os.listdir(folder_path):\n",
    "        if file.lower().endswith(\".wav\"):\n",
    "            # full_path = os.path.join(folder_path, file)\n",
    "            wav_files.append(file)\n",
    "    return wav_files"
   ]
  },
  {
   "cell_type": "code",
   "execution_count": 6,
   "id": "54194e67-5b7f-4e4f-834b-9f68a0c68519",
   "metadata": {
    "tags": []
   },
   "outputs": [],
   "source": [
    "def get_audio_duration(audio_path: str) -> float:\n",
    "    with contextlib.closing(wave.open(audio_path, 'r')) as f:\n",
    "        frames = f.getnframes()\n",
    "        rate = f.getframerate()\n",
    "        duration = frames / float(rate)\n",
    "    return duration"
   ]
  },
  {
   "cell_type": "code",
   "execution_count": 30,
   "id": "6a40984d-b818-447b-aab2-781a859e6cb6",
   "metadata": {
    "tags": []
   },
   "outputs": [],
   "source": [
    "model = GenerativeModel(\"gemini-1.5-pro\")\n",
    "\n",
    "generation_config = {\n",
    "    \"temperature\": 0.2,\n",
    "    \"max_output_tokens\": 2048,\n",
    "    \"top_p\": 1.0,\n",
    "    \"top_k\": 40\n",
    "}"
   ]
  },
  {
   "cell_type": "code",
   "execution_count": 110,
   "id": "b6ed6521-0525-4fb1-87ec-3388cc6a8d80",
   "metadata": {
    "tags": []
   },
   "outputs": [],
   "source": [
    "def transcribe_audio_with_gemini(\n",
    "    audio_path: str\n",
    ") -> str:\n",
    "    \"\"\"\n",
    "    Transcribes a full audio file using Gemini 1.5 model via Vertex AI.\n",
    "\n",
    "    Args:\n",
    "        audio_path (str): Path to the audio file.\n",
    "\n",
    "    Returns:\n",
    "        str: Transcription text in the format speaker_tag<->caption<->caption_en.\n",
    "    \"\"\"\n",
    "\n",
    "    # Load and preprocess the full audio\n",
    "    audio = AudioSegment.from_file(audio_path)\n",
    "    audio = audio.set_frame_rate(16000).set_channels(1).set_sample_width(2)\n",
    "\n",
    "    # Export audio to in-memory buffer\n",
    "    buffer = io.BytesIO()\n",
    "    audio.export(buffer, format=\"wav\")\n",
    "    buffer.seek(0)\n",
    "\n",
    "    # Prepare prompt and audio blob\n",
    "    prompt = Part.from_text(\n",
    "        \"\"\"\n",
    "        You are a Transcribing Agent with capabilities to recognize the words spoken by the speaker in the language spoken.\n",
    "        You can also translate the captions to English.\n",
    "\n",
    "        Some words or phrases may be:\n",
    "        - Misspelled\n",
    "        - Incomplete\n",
    "        - Mixed with background noise artifacts\n",
    "\n",
    "        Your job:\n",
    "        - **Interpret what the speaker most likely intended to say in Spanish**\n",
    "        - Use your best logical judgment to \"guess and correct\" transcription errors\n",
    "        - Translate only the **intended meaning** into **natural English**\n",
    "\n",
    "        Transcribe the spoken words from this audio, using <-> as separator: start_time<->end_time<->speaker_tag<->caption<->caption_en.\n",
    "        start_time<->end_time<->Agent<->caption<->caption_en\n",
    "        start_time<->end_time<->Customer<->caption<->caption_en\n",
    "        start_time<->end_time<->Agent<->caption<->caption_en\n",
    "        start_time<->end_time<->Customer<->caption<->caption_en\n",
    "        \"\"\"\n",
    "    )\n",
    "\n",
    "    audio_blob = Part.from_data(data=buffer.read(), mime_type=\"audio/wav\")\n",
    "\n",
    "    # Run Gemini transcription\n",
    "    model = GenerativeModel(\"gemini-1.5-pro-preview-0409\")\n",
    "    try:\n",
    "        response = model.generate_content([prompt, audio_blob])\n",
    "        return response.text.strip()\n",
    "    except Exception as e:\n",
    "        print(f\"Transcription failed: {e}\")\n",
    "        return \"\""
   ]
  },
  {
   "cell_type": "code",
   "execution_count": 111,
   "id": "bd77722a-3eca-47d7-a960-c24a67c1976c",
   "metadata": {
    "tags": []
   },
   "outputs": [],
   "source": [
    "def convert_transcript_to_df(text_list):\n",
    "    # Split each line into a list of elements\n",
    "    data_list = []\n",
    "    for line in text_list:\n",
    "        elements = line.split(\"<->\")\n",
    "        if len(elements) == 5:\n",
    "            data_list.append({\n",
    "                \"start_time\": elements[0],\n",
    "                \"end_time\": elements[1],\n",
    "                \"speaker_tag\": elements[2],\n",
    "                \"caption\": elements[3],\n",
    "                \"caption_en\": elements[4]\n",
    "            })\n",
    "\n",
    "    # Create DataFrame from list of dictionaries\n",
    "    df_transcription = pd.DataFrame(data_list)\n",
    "    return df_transcription"
   ]
  },
  {
   "cell_type": "markdown",
   "id": "8775307f-dc0b-46c5-8621-b5088eb29480",
   "metadata": {
    "jp-MarkdownHeadingCollapsed": true,
    "tags": []
   },
   "source": [
    "## Main"
   ]
  },
  {
   "cell_type": "code",
   "execution_count": 115,
   "id": "0632aa2a-cb4a-4c4f-95a8-be8cf72f835c",
   "metadata": {
    "tags": []
   },
   "outputs": [
    {
     "data": {
      "text/plain": [
       "['9944cf65-823e-4c24-83bc-789a33b9d599_20250313T14_06_UTC.wav',\n",
       " 'c937dfd1-4d37-4e8f-a7fa-6684f8ebfce8_20250314T22_24_UTC.wav',\n",
       " '20b2738a-12f7-40aa-b0dd-e6f6c39fe931_20250304T14_18_UTC.wav',\n",
       " 'df3baa03-7ead-4268-864d-4ffd639df1ed_20250304T19_44_UTC.wav',\n",
       " 'ce245ccd-afa1-4e07-8848-4291f4c2b50b_20250317T15_34_UTC.wav']"
      ]
     },
     "execution_count": 115,
     "metadata": {},
     "output_type": "execute_result"
    }
   ],
   "source": [
    "wav_file_list = get_all_wav_files(os.getcwd())\n",
    "\n",
    "df_master = pd.DataFrame()\n",
    "\n",
    "wav_file_list"
   ]
  },
  {
   "cell_type": "code",
   "execution_count": 117,
   "id": "3780f348-5f1a-46fe-9cd2-ada0e2f07e1f",
   "metadata": {
    "tags": []
   },
   "outputs": [
    {
     "name": "stdout",
     "output_type": "stream",
     "text": [
      "9944cf65-823e-4c24-83bc-789a33b9d599_20250313T14_06_UTC.wav\n",
      "Processing call: 9944cf65-823e-4c24-83bc-789a33b9d599\n",
      "c937dfd1-4d37-4e8f-a7fa-6684f8ebfce8_20250314T22_24_UTC.wav\n",
      "Processing call: c937dfd1-4d37-4e8f-a7fa-6684f8ebfce8\n",
      "20b2738a-12f7-40aa-b0dd-e6f6c39fe931_20250304T14_18_UTC.wav\n",
      "Processing call: 20b2738a-12f7-40aa-b0dd-e6f6c39fe931\n",
      "df3baa03-7ead-4268-864d-4ffd639df1ed_20250304T19_44_UTC.wav\n",
      "Processing call: df3baa03-7ead-4268-864d-4ffd639df1ed\n",
      "ce245ccd-afa1-4e07-8848-4291f4c2b50b_20250317T15_34_UTC.wav\n",
      "Processing call: ce245ccd-afa1-4e07-8848-4291f4c2b50b\n"
     ]
    }
   ],
   "source": [
    "for audio_path in wav_file_list:\n",
    "    print(audio_path)\n",
    "    contact_id = audio_path.split('_')[0]\n",
    "    print(f\"Processing call: {contact_id}\")\n",
    "\n",
    "    transcript = transcribe_audio_with_gemini(audio_path)\n",
    "\n",
    "    df = convert_transcript_to_df(transcript.split('\\n'))\n",
    "    df.columns = df.columns.str.upper()\n",
    "    df.insert(0, \"CONTACT_ID\", contact_id)\n",
    "\n",
    "    df_master = pd.concat([df_master, df], ignore_index=True)"
   ]
  },
  {
   "cell_type": "code",
   "execution_count": 170,
   "id": "95ebd769-b95b-46c4-828d-892ff8a75cb8",
   "metadata": {
    "tags": []
   },
   "outputs": [
    {
     "name": "stdout",
     "output_type": "stream",
     "text": [
      "(116, 6)\n"
     ]
    }
   ],
   "source": [
    "print(df_master.shape)"
   ]
  },
  {
   "cell_type": "code",
   "execution_count": 121,
   "id": "6f6fcda5-00b4-48b8-81b3-bf21b44541c4",
   "metadata": {
    "tags": []
   },
   "outputs": [],
   "source": [
    "# Write to Excel file with a named sheet\n",
    "with pd.ExcelWriter(\"SpanishCalls-POC.xlsx\", engine=\"openpyxl\", mode=\"a\", if_sheet_exists=\"new\") as writer:\n",
    "    df_master.to_excel(writer, sheet_name=\"UsingAudio\", index=False)"
   ]
  },
  {
   "cell_type": "code",
   "execution_count": 169,
   "id": "6d8631f7-9e5a-4064-8a24-938e137561f9",
   "metadata": {
    "tags": []
   },
   "outputs": [
    {
     "data": {
      "text/plain": [
       "array(['9944cf65-823e-4c24-83bc-789a33b9d599',\n",
       "       'c937dfd1-4d37-4e8f-a7fa-6684f8ebfce8',\n",
       "       '20b2738a-12f7-40aa-b0dd-e6f6c39fe931',\n",
       "       'df3baa03-7ead-4268-864d-4ffd639df1ed',\n",
       "       'ce245ccd-afa1-4e07-8848-4291f4c2b50b'], dtype=object)"
      ]
     },
     "execution_count": 169,
     "metadata": {},
     "output_type": "execute_result"
    }
   ],
   "source": [
    "df_master.CONTACT_ID.unique()"
   ]
  },
  {
   "cell_type": "code",
   "execution_count": null,
   "id": "3639dca6-a8a5-49d7-9e3a-83222c973af8",
   "metadata": {
    "tags": []
   },
   "outputs": [],
   "source": []
  },
  {
   "cell_type": "code",
   "execution_count": null,
   "id": "208c565a-a35c-4a9e-abaa-cab9b2c70a19",
   "metadata": {},
   "outputs": [],
   "source": []
  }
 ],
 "metadata": {
  "environment": {
   "kernel": "posigen",
   "name": "workbench-notebooks.m127",
   "type": "gcloud",
   "uri": "us-docker.pkg.dev/deeplearning-platform-release/gcr.io/workbench-notebooks:m127"
  },
  "kernelspec": {
   "display_name": "posigen (Local)",
   "language": "python",
   "name": "posigen"
  },
  "language_info": {
   "codemirror_mode": {
    "name": "ipython",
    "version": 3
   },
   "file_extension": ".py",
   "mimetype": "text/x-python",
   "name": "python",
   "nbconvert_exporter": "python",
   "pygments_lexer": "ipython3",
   "version": "3.13.2"
  }
 },
 "nbformat": 4,
 "nbformat_minor": 5
}
